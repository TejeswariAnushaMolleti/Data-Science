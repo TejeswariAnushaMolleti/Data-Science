{
 "cells": [
  {
   "cell_type": "markdown",
   "metadata": {},
   "source": [
    "## Sets\n",
    "- set methods\n",
    "- functions in pythons\n",
    "    - Built -in functions -> print(),input()..\n",
    "    - user defined functions\n",
    "    "
   ]
  },
  {
   "cell_type": "markdown",
   "metadata": {},
   "source": [
    "### Sets\n",
    "- it is used for storing non-homogeneous group of unique data on python\n",
    "- `{}` is used for storing the data\n",
    "- it is mutable data type\n",
    "- it is unordered data type\n",
    "- we can't access the elements\n",
    "- it is iterable\n",
    "- it doesn't allow duplicate data"
   ]
  },
  {
   "cell_type": "code",
   "execution_count": 4,
   "metadata": {},
   "outputs": [
    {
     "name": "stdout",
     "output_type": "stream",
     "text": [
      "{0, 2, 3, 2.5, 'Te', 'y', 'ap'}\n"
     ]
    }
   ],
   "source": [
    "s=set()\n",
    "s={2,3,'ap','y',2.5,0,'Te'}\n",
    "print(s)"
   ]
  },
  {
   "cell_type": "code",
   "execution_count": 6,
   "metadata": {},
   "outputs": [
    {
     "name": "stdout",
     "output_type": "stream",
     "text": [
      "{1, 2, 3, 4}\n"
     ]
    }
   ],
   "source": [
    "s1={1,2,3,4,4,3,2,1}\n",
    "print(s1)"
   ]
  },
  {
   "cell_type": "code",
   "execution_count": 10,
   "metadata": {},
   "outputs": [
    {
     "name": "stdout",
     "output_type": "stream",
     "text": [
      "{'N': 1, 'a': 23, 'm': 8, 'i': 24, 'n': 18, 'g': 10, ' ': 53, 'y': 12, 'o': 29, 'u': 11, 'r': 17, 'e': 30, 'c': 12, 't': 23, 'l': 9, 'v': 5, 's': 21, '\\n': 8, 'd': 11, 'f': 7, '—': 1, 'p': 7, 'b': 5, 'w': 3, 'h': 11, '.': 3, 'D': 1, ',': 7, 'I': 1, 'x': 1} \n",
      "\n",
      "30\n"
     ]
    }
   ],
   "source": [
    "s='''Naming your inner critic leverages \n",
    "cognitive defusion — a process by which you \n",
    "separate yourself from your thoughts. Defusion\n",
    "is shown to reduce discomfort, believability, \n",
    "and the stress of negative thoughts. It also \n",
    "promotes psychological flexibility, or the \n",
    "capacity to steady your mind, manage your \n",
    "emotions, and be aware, open, and adaptive to \n",
    "changing demands.'''\n",
    "c={}\n",
    "for char in s:\n",
    "    c[char]=s.count(char)\n",
    "print(c,'\\n')\n",
    "print(len(c))"
   ]
  },
  {
   "cell_type": "code",
   "execution_count": 12,
   "metadata": {},
   "outputs": [
    {
     "name": "stdout",
     "output_type": "stream",
     "text": [
      "['Naming', 'your', 'inner', 'critic', 'leverages', 'cognitive', 'defusion', '—', 'a', 'process', 'by', 'which', 'you', 'separate', 'yourself', 'from', 'your', 'thoughts.', 'Defusion', 'is', 'shown', 'to', 'reduce', 'discomfort,', 'believability,', 'and', 'the', 'stress', 'of', 'negative', 'thoughts.', 'It', 'also', 'promotes', 'psychological', 'flexibility,', 'or', 'the', 'capacity', 'to', 'steady', 'your', 'mind,', 'manage', 'your', 'emotions,', 'and', 'be', 'aware,', 'open,', 'and', 'adaptive', 'to', 'changing', 'demands.']\n",
      "\n",
      "\n",
      "55\n"
     ]
    }
   ],
   "source": [
    "sli={}\n",
    "sli=s.split()\n",
    "print(sli)\n",
    "print('\\n')\n",
    "print(len(sli))"
   ]
  },
  {
   "cell_type": "code",
   "execution_count": 13,
   "metadata": {},
   "outputs": [
    {
     "name": "stdout",
     "output_type": "stream",
     "text": [
      "{'anu', 2, 3, 4}\n"
     ]
    }
   ],
   "source": [
    "s={2,3,4}\n",
    "s.add('anu')\n",
    "print(s)"
   ]
  },
  {
   "cell_type": "code",
   "execution_count": 15,
   "metadata": {},
   "outputs": [
    {
     "ename": "TypeError",
     "evalue": "unhashable type: 'list'",
     "output_type": "error",
     "traceback": [
      "\u001b[1;31m---------------------------------------------------------------------------\u001b[0m",
      "\u001b[1;31mTypeError\u001b[0m                                 Traceback (most recent call last)",
      "\u001b[1;32m<ipython-input-15-eec97ec00441>\u001b[0m in \u001b[0;36m<module>\u001b[1;34m\u001b[0m\n\u001b[1;32m----> 1\u001b[1;33m \u001b[0ms\u001b[0m\u001b[1;33m.\u001b[0m\u001b[0madd\u001b[0m\u001b[1;33m(\u001b[0m\u001b[1;33m[\u001b[0m\u001b[1;36m1\u001b[0m\u001b[1;33m,\u001b[0m\u001b[1;36m2\u001b[0m\u001b[1;33m]\u001b[0m\u001b[1;33m)\u001b[0m\u001b[1;33m\u001b[0m\u001b[1;33m\u001b[0m\u001b[0m\n\u001b[0m",
      "\u001b[1;31mTypeError\u001b[0m: unhashable type: 'list'"
     ]
    }
   ],
   "source": [
    "s.add([1,2])"
   ]
  },
  {
   "cell_type": "code",
   "execution_count": 19,
   "metadata": {},
   "outputs": [
    {
     "name": "stdout",
     "output_type": "stream",
     "text": [
      "{(1, 2), 1, 2, 3, 4, 'anu'}\n",
      "{(1, 2), 1, 2, 3, 4, 'anu'}\n"
     ]
    },
    {
     "ename": "NameError",
     "evalue": "name 's' is not defined",
     "output_type": "error",
     "traceback": [
      "\u001b[1;31m---------------------------------------------------------------------------\u001b[0m",
      "\u001b[1;31mNameError\u001b[0m                                 Traceback (most recent call last)",
      "\u001b[1;32m<ipython-input-19-adbc2d3d8a02>\u001b[0m in \u001b[0;36m<module>\u001b[1;34m\u001b[0m\n\u001b[0;32m      4\u001b[0m \u001b[0mprint\u001b[0m\u001b[1;33m(\u001b[0m\u001b[0ms\u001b[0m\u001b[1;33m)\u001b[0m\u001b[1;33m\u001b[0m\u001b[1;33m\u001b[0m\u001b[0m\n\u001b[0;32m      5\u001b[0m \u001b[1;32mdel\u001b[0m \u001b[0ms\u001b[0m\u001b[1;33m\u001b[0m\u001b[1;33m\u001b[0m\u001b[0m\n\u001b[1;32m----> 6\u001b[1;33m \u001b[0mprint\u001b[0m\u001b[1;33m(\u001b[0m\u001b[0ms\u001b[0m\u001b[1;33m)\u001b[0m\u001b[1;33m\u001b[0m\u001b[1;33m\u001b[0m\u001b[0m\n\u001b[0m",
      "\u001b[1;31mNameError\u001b[0m: name 's' is not defined"
     ]
    }
   ],
   "source": [
    "s.add((1,2))\n",
    "print(s)\n",
    "s.update([1,2,3,4])\n",
    "print(s)\n",
    "del s\n",
    "print(s)"
   ]
  },
  {
   "cell_type": "markdown",
   "metadata": {},
   "source": [
    "#### methods\n",
    "- pop()\n",
    "- remove() # error if element is not present\n",
    "- update()\n",
    "- add()\n",
    "- discard() # no error if element not present"
   ]
  },
  {
   "cell_type": "code",
   "execution_count": 24,
   "metadata": {},
   "outputs": [
    {
     "name": "stdout",
     "output_type": "stream",
     "text": [
      "{1, 2, 3, 4, 5, 6, 7, 8}\n",
      "\n",
      "\n",
      "{1, 2, 3, 4, 5, 6, 7, 8}\n",
      "\n",
      "\n",
      "{4, 5, 6}\n",
      "\n",
      "\n",
      "{4, 5, 6}\n",
      "\n",
      "\n",
      "{1, 2, 3}\n"
     ]
    }
   ],
   "source": [
    "s={1,2,3,4,5,6}\n",
    "s1={4,5,6,7,8}\n",
    "print(s.union(s1))\n",
    "print('\\n')\n",
    "print(s | s1)\n",
    "print('\\n')\n",
    "print(s.intersection(s1))\n",
    "print('\\n')\n",
    "print(s & s1)\n",
    "print('\\n')\n",
    "print(s-s1)"
   ]
  },
  {
   "cell_type": "code",
   "execution_count": 26,
   "metadata": {},
   "outputs": [
    {
     "name": "stdout",
     "output_type": "stream",
     "text": [
      "{1, 2, 3, 7, 8}\n",
      "None\n"
     ]
    }
   ],
   "source": [
    "print(s ^ s1) #s.symmetric_difference_update(s1)\n",
    "print(s.difference_update(s1))"
   ]
  },
  {
   "cell_type": "code",
   "execution_count": 27,
   "metadata": {},
   "outputs": [
    {
     "name": "stdout",
     "output_type": "stream",
     "text": [
      "5\n"
     ]
    }
   ],
   "source": [
    "print(abs(-5))"
   ]
  },
  {
   "cell_type": "code",
   "execution_count": 30,
   "metadata": {},
   "outputs": [
    {
     "name": "stdout",
     "output_type": "stream",
     "text": [
      "True\n",
      "False\n",
      "True\n",
      "True\n"
     ]
    }
   ],
   "source": [
    "l=[1,2,3]\n",
    "l1=[4,5,6,0]\n",
    "print(all(l))\n",
    "print(all(l1))\n",
    "print(any(l))\n",
    "print(any(l1))"
   ]
  },
  {
   "cell_type": "markdown",
   "metadata": {},
   "source": [
    "### Types of function\n",
    "1. based on arguements\n",
    "    1. positional argument/req argument\n",
    "    2. keyword argument\n",
    "    3. default argument\n",
    "    4. variable lenght keyword argument\n",
    "2. Based on return and arguments\n",
    "    1. with arg with return\n",
    "    2. without arg with return\n",
    "    3. with arg without return\n",
    "    4. without arg without return\n",
    "3. call by value\n",
    "4. call by refereance\n",
    "5. recursive functions"
   ]
  },
  {
   "cell_type": "code",
   "execution_count": 1,
   "metadata": {},
   "outputs": [],
   "source": [
    "def addition(*a,b):\n",
    "    s=b\n",
    "    for num in a:\n",
    "        s+= num\n",
    "    return s"
   ]
  },
  {
   "cell_type": "code",
   "execution_count": 2,
   "metadata": {},
   "outputs": [
    {
     "data": {
      "text/plain": [
       "19"
      ]
     },
     "execution_count": 2,
     "metadata": {},
     "output_type": "execute_result"
    }
   ],
   "source": [
    "addition(5,1,8,b=5)"
   ]
  },
  {
   "cell_type": "code",
   "execution_count": 3,
   "metadata": {},
   "outputs": [],
   "source": [
    "def addition(*a,b): #args\n",
    "    return sum(a) + b"
   ]
  },
  {
   "cell_type": "code",
   "execution_count": 4,
   "metadata": {},
   "outputs": [
    {
     "data": {
      "text/plain": [
       "19"
      ]
     },
     "execution_count": 4,
     "metadata": {},
     "output_type": "execute_result"
    }
   ],
   "source": [
    "addition(5,1,8,b=5)"
   ]
  },
  {
   "cell_type": "code",
   "execution_count": 15,
   "metadata": {},
   "outputs": [],
   "source": [
    "def addition(**var):\n",
    "    return var"
   ]
  },
  {
   "cell_type": "code",
   "execution_count": 17,
   "metadata": {},
   "outputs": [
    {
     "name": "stdout",
     "output_type": "stream",
     "text": [
      "{'a': 1, 'b': 10, 'c': 5, 'd': 4, 'abc': 9}\n"
     ]
    }
   ],
   "source": [
    "print(addition(a=1,b=10,c=5,d=4,abc=9))"
   ]
  },
  {
   "cell_type": "code",
   "execution_count": 10,
   "metadata": {},
   "outputs": [],
   "source": [
    "def addition(*var):\n",
    "    return var"
   ]
  },
  {
   "cell_type": "code",
   "execution_count": 11,
   "metadata": {},
   "outputs": [
    {
     "ename": "TypeError",
     "evalue": "addition() got an unexpected keyword argument 'a'",
     "output_type": "error",
     "traceback": [
      "\u001b[1;31m---------------------------------------------------------------------------\u001b[0m",
      "\u001b[1;31mTypeError\u001b[0m                                 Traceback (most recent call last)",
      "\u001b[1;32m<ipython-input-11-6ef9f7a92533>\u001b[0m in \u001b[0;36m<module>\u001b[1;34m\u001b[0m\n\u001b[1;32m----> 1\u001b[1;33m \u001b[0mprint\u001b[0m\u001b[1;33m(\u001b[0m\u001b[0maddition\u001b[0m\u001b[1;33m(\u001b[0m\u001b[0ma\u001b[0m\u001b[1;33m=\u001b[0m\u001b[1;36m1\u001b[0m\u001b[1;33m,\u001b[0m\u001b[0mb\u001b[0m\u001b[1;33m=\u001b[0m\u001b[1;36m10\u001b[0m\u001b[1;33m,\u001b[0m\u001b[0mc\u001b[0m\u001b[1;33m=\u001b[0m\u001b[1;36m5\u001b[0m\u001b[1;33m,\u001b[0m\u001b[0md\u001b[0m\u001b[1;33m=\u001b[0m\u001b[1;36m4\u001b[0m\u001b[1;33m,\u001b[0m\u001b[0mabc\u001b[0m\u001b[1;33m=\u001b[0m\u001b[1;36m9\u001b[0m\u001b[1;33m)\u001b[0m\u001b[1;33m)\u001b[0m\u001b[1;33m\u001b[0m\u001b[1;33m\u001b[0m\u001b[0m\n\u001b[0m",
      "\u001b[1;31mTypeError\u001b[0m: addition() got an unexpected keyword argument 'a'"
     ]
    }
   ],
   "source": [
    "print(addition(a=1,b=10,c=5,d=4,abc=9))"
   ]
  },
  {
   "cell_type": "markdown",
   "metadata": {},
   "source": [
    "### call by value\n",
    "\n",
    "if i'm passing the immutable data type variables to the func \n",
    "\n",
    "### call by reference\n",
    "\n",
    "if v pss mutable data types to tthe func"
   ]
  },
  {
   "cell_type": "code",
   "execution_count": 19,
   "metadata": {},
   "outputs": [
    {
     "name": "stdout",
     "output_type": "stream",
     "text": [
      "55\n"
     ]
    }
   ],
   "source": [
    "def call_val(a):\n",
    "    print(a)\n",
    "\n",
    "a=55\n",
    "call_val(a)"
   ]
  },
  {
   "cell_type": "markdown",
   "metadata": {},
   "source": [
    "## Modules n packages\n",
    "\n",
    "modules \n",
    "- it is a single py file \n",
    "\n",
    "packages\n",
    "- it is a collection of grp of files "
   ]
  },
  {
   "cell_type": "code",
   "execution_count": null,
   "metadata": {},
   "outputs": [],
   "source": []
  }
 ],
 "metadata": {
  "kernelspec": {
   "display_name": "Python 3",
   "language": "python",
   "name": "python3"
  },
  "language_info": {
   "codemirror_mode": {
    "name": "ipython",
    "version": 3
   },
   "file_extension": ".py",
   "mimetype": "text/x-python",
   "name": "python",
   "nbconvert_exporter": "python",
   "pygments_lexer": "ipython3",
   "version": "3.7.6"
  }
 },
 "nbformat": 4,
 "nbformat_minor": 4
}
