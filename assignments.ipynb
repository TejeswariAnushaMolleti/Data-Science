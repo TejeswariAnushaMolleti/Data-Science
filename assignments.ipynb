{
 "cells": [
  {
   "cell_type": "markdown",
   "metadata": {},
   "source": [
    "### 2.prime numbers between a range"
   ]
  },
  {
   "cell_type": "code",
   "execution_count": 3,
   "metadata": {},
   "outputs": [
    {
     "name": "stdout",
     "output_type": "stream",
     "text": [
      "enter lower number1\n",
      "enter higher number20\n",
      "2\n",
      "3\n",
      "5\n",
      "7\n",
      "11\n",
      "13\n",
      "17\n",
      "19\n"
     ]
    }
   ],
   "source": [
    "lower=int(input(\"enter lower number\"))\n",
    "upper=int(input(\"enter higher number\"))\n",
    "for num in range(lower,upper+1):\n",
    "    if num>1:\n",
    "        for i in range(2,num):\n",
    "            if(num%i==0):\n",
    "                break\n",
    "        else:\n",
    "            print(num)"
   ]
  },
  {
   "cell_type": "markdown",
   "metadata": {},
   "source": [
    "### 3.Fibonacci series of the range n"
   ]
  },
  {
   "cell_type": "code",
   "execution_count": 4,
   "metadata": {},
   "outputs": [
    {
     "name": "stdout",
     "output_type": "stream",
     "text": [
      "enter the number5\n",
      "0\n",
      "1\n",
      "1\n",
      "2\n",
      "3\n",
      "5\n"
     ]
    }
   ],
   "source": [
    "n=int(input(\"enter the number\"))\n",
    "n1=0\n",
    "n2=1\n",
    "print(n1)\n",
    "print(n2)\n",
    "for i in range(i,n+1):\n",
    "    n3=n2+n1\n",
    "    if(n3>n):\n",
    "        break\n",
    "    print(n3)\n",
    "    n1=n2\n",
    "    n2=n3"
   ]
  },
  {
   "cell_type": "markdown",
   "metadata": {},
   "source": [
    "### 4.Sum of the digits in a string"
   ]
  },
  {
   "cell_type": "code",
   "execution_count": 8,
   "metadata": {},
   "outputs": [
    {
     "name": "stdout",
     "output_type": "stream",
     "text": [
      "14\n",
      "80\n"
     ]
    }
   ],
   "source": [
    "para=\"hi 123 bye 456 tu 7899 hell 5678\"\n",
    "n=0\n",
    "s=0\n",
    "for char in para:\n",
    "    if char.isdigit():\n",
    "        n=n+1\n",
    "        s=s+int(char)\n",
    "print(n)\n",
    "print(s)"
   ]
  },
  {
   "cell_type": "markdown",
   "metadata": {},
   "source": [
    "### 5. Sum of odd digits and even digits"
   ]
  },
  {
   "cell_type": "code",
   "execution_count": 10,
   "metadata": {},
   "outputs": [
    {
     "name": "stdout",
     "output_type": "stream",
     "text": [
      "count of evn digits is: 6\n",
      "sum of evn digits is: 34\n",
      "count of odd digits is: 8\n",
      "sum of evn digits is: 46\n"
     ]
    }
   ],
   "source": [
    "para=\"hi 123 bye 456 tu 7899 hell 5678\"\n",
    "e=0\n",
    "o=0\n",
    "esum=0\n",
    "osum=0\n",
    "for char in para:\n",
    "    if char.isdigit():\n",
    "        if int(char)%2 == 0:\n",
    "            e=e+1\n",
    "            esum=esum+int(char)\n",
    "        else:\n",
    "            o=o+1\n",
    "            osum=osum+int(char)\n",
    "print(\"count of evn digits is:\",e)\n",
    "print(\"sum of evn digits is:\",esum)\n",
    "print(\"count of odd digits is:\",o)\n",
    "print(\"sum of evn digits is:\",osum)\n",
    "\n"
   ]
  },
  {
   "cell_type": "markdown",
   "metadata": {},
   "source": [
    "### Tasks\n",
    "1. Reverse every element in list and update them in another list\n",
    "2. Extract llower-case alpha from each element ad update in another list\n",
    "3. remove special characters from the element and update in another list\n",
    "4. get the middle character of every element and update in another list"
   ]
  },
  {
   "cell_type": "code",
   "execution_count": 11,
   "metadata": {},
   "outputs": [
    {
     "name": "stdout",
     "output_type": "stream",
     "text": [
      "['python', 'hindi', 'telugu', 'anusha', 'tejeswari']\n",
      "['nohtyp', 'idnih', 'ugulet', 'ahsuna', 'irawsejet']\n"
     ]
    }
   ],
   "source": [
    "li=['python','hindi','telugu','anusha','tejeswari']\n",
    "newli=[]\n",
    "for char in li:\n",
    "    newli.append(char[: : -1])\n",
    "    \n",
    "print(li)\n",
    "print(newli)"
   ]
  },
  {
   "cell_type": "code",
   "execution_count": 17,
   "metadata": {},
   "outputs": [
    {
     "name": "stdout",
     "output_type": "stream",
     "text": [
      "['y', 't', 'h', 'o', 'n', 'i', 'n', 'd', 'i', 'e', 'l', 'u', 'g', 'u', 'n', 'u', 's', 'h', 'a', 'e', 'j', 'e', 's', 'w', 'a', 'r', 'i']\n"
     ]
    }
   ],
   "source": [
    "li=['Python','Hindi','Telugu','Anusha','Tejeswari']\n",
    "nl=[]\n",
    "for char in li:\n",
    "    for low in char:\n",
    "        if low.islower():\n",
    "            nl.append(low)\n",
    "print(nl)"
   ]
  },
  {
   "cell_type": "code",
   "execution_count": 18,
   "metadata": {},
   "outputs": [
    {
     "name": "stdout",
     "output_type": "stream",
     "text": [
      "['P', 'H', 'T', 'A', 'T']\n"
     ]
    }
   ],
   "source": [
    "li=['Python','Hindi','Telugu','Anusha','Tejeswari']\n",
    "nl=[]\n",
    "for char in li:\n",
    "    for low in char:\n",
    "        if low.isupper():\n",
    "            nl.append(low)\n",
    "print(nl)"
   ]
  },
  {
   "cell_type": "code",
   "execution_count": 23,
   "metadata": {},
   "outputs": [
    {
     "name": "stdout",
     "output_type": "stream",
     "text": [
      "['n', 's']\n"
     ]
    }
   ],
   "source": [
    "li=['Python','Hindi','Telugu','Anusha','Tejeswari']\n",
    "nl=[]\n",
    "for char in li:\n",
    "    length=len(char)\n",
    "    if length % 2 ==1:\n",
    "        mid=length/2\n",
    "        nl.append(char[int(mid)])\n",
    "print(nl)"
   ]
  },
  {
   "cell_type": "markdown",
   "metadata": {},
   "source": [
    "### 03/06/2021\n",
    "- Character Frequency inside a string\n",
    "- word frequency\n"
   ]
  },
  {
   "cell_type": "code",
   "execution_count": null,
   "metadata": {},
   "outputs": [],
   "source": []
  }
 ],
 "metadata": {
  "kernelspec": {
   "display_name": "Python 3",
   "language": "python",
   "name": "python3"
  },
  "language_info": {
   "codemirror_mode": {
    "name": "ipython",
    "version": 3
   },
   "file_extension": ".py",
   "mimetype": "text/x-python",
   "name": "python",
   "nbconvert_exporter": "python",
   "pygments_lexer": "ipython3",
   "version": "3.7.6"
  }
 },
 "nbformat": 4,
 "nbformat_minor": 4
}
