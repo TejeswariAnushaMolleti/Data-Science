{
 "cells": [
  {
   "cell_type": "code",
   "execution_count": null,
   "metadata": {},
   "outputs": [],
   "source": []
  },
  {
   "cell_type": "markdown",
   "metadata": {},
   "source": [
    "# mark\n",
    "## mark\n",
    "### mark\n",
    "#### mark\n",
    "##### mark\n",
    "###### mark\n",
    "\n",
    "<h1> mark </h1>\n",
    "\n",
    "1. python\n",
    "2. c\n",
    "3. java\n",
    "\n",
    "\n",
    "- hi\n",
    "    * how\n",
    "        + are\n",
    "            - you\n",
    "\n",
    "-it is **winter** \n",
    "\n",
    "-it is ***spring*** \n",
    "\n",
    "-it is *summer* \n",
    "- ~seasons of life~\n",
    "\n",
    "### image \n",
    "\n",
    "![descp](https://www.charleskeith.eu/dw/image/v2/BCWJ_PRD/on/demandware.static/-/Sites-ck-products/default/dw901a7248/images/hi-res/2020-L2-CK5-72120241-U-57-1.jpg?sw=1152&sh=1536)\n",
    "\n",
    "[desc](https://www.google.com/search?q=u&source=lmns&bih=938&biw=1920&client=firefox-b-d&hl=en&sa=X&ved=2ahUKEwiazcXs2OnwAhVPH7cAHUAyDxEQ_AUoAHoECAEQAA)\n",
    "\n",
    "### table\n",
    "\n",
    "|NAME|CLASS|\n",
    "|----|-----|\n",
    "|anu|k8|\n",
    "\n",
    "```c\n",
    "#include<stdio.h>\n",
    "main()\n",
    "{\n",
    "printf(\"hello !\");\n",
    "}\n",
    "```\n",
    "\n",
    "```python\n",
    "print(\"hello!\")\n",
    "```\n",
    "\n",
    "### quotes\n",
    "> Sun rises\n",
    "\n",
    "`in the east`\n",
    "\n",
    "### formulas\n",
    "$$(a_1+b)^2 $$"
   ]
  },
  {
   "cell_type": "code",
   "execution_count": null,
   "metadata": {},
   "outputs": [],
   "source": []
  }
 ],
 "metadata": {
  "kernelspec": {
   "display_name": "Python 3",
   "language": "python",
   "name": "python3"
  },
  "language_info": {
   "codemirror_mode": {
    "name": "ipython",
    "version": 3
   },
   "file_extension": ".py",
   "mimetype": "text/x-python",
   "name": "python",
   "nbconvert_exporter": "python",
   "pygments_lexer": "ipython3",
   "version": "3.7.6"
  }
 },
 "nbformat": 4,
 "nbformat_minor": 4
}
