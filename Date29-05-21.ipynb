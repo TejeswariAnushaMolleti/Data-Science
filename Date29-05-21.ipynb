{
 "cells": [
  {
   "cell_type": "markdown",
   "metadata": {},
   "source": [
    "# python\n",
    "## todays objectives\n",
    "\n",
    "- output and input\n",
    "- variables in python\n",
    "- type conversions in python\n",
    "- operators in python\n",
    "- conditional statements"
   ]
  },
  {
   "cell_type": "code",
   "execution_count": 1,
   "metadata": {},
   "outputs": [
    {
     "name": "stdout",
     "output_type": "stream",
     "text": [
      "hello world\n"
     ]
    }
   ],
   "source": [
    "print('hello world')"
   ]
  },
  {
   "cell_type": "code",
   "execution_count": 3,
   "metadata": {},
   "outputs": [
    {
     "name": "stdout",
     "output_type": "stream",
     "text": [
      "date is 29th of may \n"
     ]
    }
   ],
   "source": [
    "print(\"date is 29th of may \")"
   ]
  },
  {
   "cell_type": "code",
   "execution_count": 4,
   "metadata": {},
   "outputs": [
    {
     "name": "stdout",
     "output_type": "stream",
     "text": [
      "date 29\n"
     ]
    }
   ],
   "source": [
    "print(\"date\",29)"
   ]
  },
  {
   "cell_type": "code",
   "execution_count": 7,
   "metadata": {},
   "outputs": [
    {
     "name": "stdout",
     "output_type": "stream",
     "text": [
      "date-29\n",
      "1\t2\t3\t4\t5\t6\t7\t8\t9\n",
      "12\n",
      "1abc2abc3\n"
     ]
    }
   ],
   "source": [
    "print(\"date\",29,sep = \"-\")\n",
    "print(1,2,3,4,5,6,7,8,9,sep = '\\t')\n",
    "print(1,2,sep=\"\")\n",
    "print(1,2,3,sep = \"abc\")"
   ]
  },
  {
   "cell_type": "markdown",
   "metadata": {},
   "source": [
    "# variables\n",
    "- can have numbers and integers\n",
    "- can have _\n",
    "- no other characters"
   ]
  },
  {
   "cell_type": "code",
   "execution_count": 2,
   "metadata": {},
   "outputs": [],
   "source": [
    "a = 9\n",
    "A= 55\n",
    "# 1a=9\n",
    "_ = 78"
   ]
  },
  {
   "cell_type": "markdown",
   "metadata": {},
   "source": [
    "### data types in python\n",
    "- primary data types -> int, float, complex, string, boolean\n",
    "- secondary data types(also called as data structures) -> containers -> list,tuples,dictionary,set\n",
    "\n",
    "a + ib //complex values\n"
   ]
  },
  {
   "cell_type": "code",
   "execution_count": 3,
   "metadata": {},
   "outputs": [],
   "source": [
    "a= 55  #integer\n",
    "b= 55.66 #floast\n",
    "c = 5 + 6j #complex\n",
    "e = 'a+g4'#string\n",
    "f=['python',65,5+6j,55.665] #list\n",
    "g = ('puthon',65,5+6j,55.65) #tuples\n",
    "h={\"name :\",\"python\"} #dictionary(\"key\" , \"value\")\n",
    "i={1,2,3,4} #set"
   ]
  },
  {
   "cell_type": "code",
   "execution_count": 4,
   "metadata": {},
   "outputs": [
    {
     "name": "stdout",
     "output_type": "stream",
     "text": [
      "<class 'int'>\n"
     ]
    }
   ],
   "source": [
    "print(type(a))"
   ]
  },
  {
   "cell_type": "code",
   "execution_count": 5,
   "metadata": {},
   "outputs": [
    {
     "name": "stdout",
     "output_type": "stream",
     "text": [
      "<class 'float'>\n"
     ]
    }
   ],
   "source": [
    "print(type(b))"
   ]
  },
  {
   "cell_type": "code",
   "execution_count": 9,
   "metadata": {
    "scrolled": true
   },
   "outputs": [
    {
     "name": "stdout",
     "output_type": "stream",
     "text": [
      "<class 'complex'>\n",
      "<class 'list'>\n",
      "<class 'tuple'>\n",
      "<class 'set'> <class 'set'>\n"
     ]
    }
   ],
   "source": [
    "print(type(c))\n",
    "print(type(f))\n",
    "print(type(g))\n",
    "print(type(h),type(i))"
   ]
  },
  {
   "cell_type": "code",
   "execution_count": 14,
   "metadata": {},
   "outputs": [
    {
     "name": "stdout",
     "output_type": "stream",
     "text": [
      "5\n",
      "<class 'str'>\n"
     ]
    }
   ],
   "source": [
    "a = input()\n",
    "print(type(a))  \n",
    "#only after completion of execution of \n",
    "#this cell the next one gets executed"
   ]
  },
  {
   "cell_type": "code",
   "execution_count": 15,
   "metadata": {},
   "outputs": [
    {
     "name": "stdout",
     "output_type": "stream",
     "text": [
      "[1,2]\n",
      "<class 'str'>\n"
     ]
    }
   ],
   "source": [
    "b=input()\n",
    "print(type(b))"
   ]
  },
  {
   "cell_type": "markdown",
   "metadata": {},
   "source": [
    "# type conversions"
   ]
  },
  {
   "cell_type": "code",
   "execution_count": 18,
   "metadata": {},
   "outputs": [
    {
     "name": "stdout",
     "output_type": "stream",
     "text": [
      "5\n",
      "<class 'int'>\n"
     ]
    }
   ],
   "source": [
    "a=int(input()) #Valueerror if another type is given as input\n",
    "print(type(a))"
   ]
  },
  {
   "cell_type": "markdown",
   "metadata": {},
   "source": [
    "### Number system \n",
    "- decimal -> 10 -> 0-9\n",
    "- binary -> 2 -> 0,1 prefix(0b)\n",
    "- octal -> 8 -> 0-7  prefix(0o)\n",
    "- hexadecimal -> 16 -> 0-F  prefix(0x)"
   ]
  },
  {
   "cell_type": "code",
   "execution_count": 24,
   "metadata": {},
   "outputs": [
    {
     "name": "stdout",
     "output_type": "stream",
     "text": [
      "0b110111 & 0o67 & 0x37\n",
      "\n",
      "\n",
      "55 55 55\n"
     ]
    }
   ],
   "source": [
    "a=55\n",
    "print(bin(a),oct(a),hex(a),sep=\" & \")\n",
    "print('\\n')\n",
    "print(int('110111',2),int('67',8),int('37',16))"
   ]
  },
  {
   "cell_type": "code",
   "execution_count": 28,
   "metadata": {},
   "outputs": [
    {
     "name": "stdout",
     "output_type": "stream",
     "text": [
      "97\n",
      "a\n"
     ]
    }
   ],
   "source": [
    "print(ord('a'))\n",
    "print(chr(97))"
   ]
  },
  {
   "cell_type": "markdown",
   "metadata": {},
   "source": [
    "### Operators in python\n",
    "- arithmetic operators  -> +,-,*,/,%,//,**\n",
    "- logical operators   -> and, or , not\n",
    "- comparision/relational operators -> <,>,<=,>=,==,!=\n",
    "- bitwise operators   -> &(and),|(or),~(not), ^(xor), >>(right shift) , <<\n",
    "- assignment operators -> += , -=, /= , %= , //=,**=\n",
    "- identity operators -> is, not is\n",
    "- membership operators -> in, not in"
   ]
  },
  {
   "cell_type": "code",
   "execution_count": 30,
   "metadata": {},
   "outputs": [
    {
     "name": "stdout",
     "output_type": "stream",
     "text": [
      "5  $$  -1  $$  6  $$  0.6666666666666666  $$  0  $$  2  $$  8\n"
     ]
    }
   ],
   "source": [
    "a=2\n",
    "b=3\n",
    "print(a+b,a-b,a*b,a/b,a//b,a%b,a**b,sep=\"  $$  \")"
   ]
  },
  {
   "cell_type": "code",
   "execution_count": 39,
   "metadata": {},
   "outputs": [
    {
     "name": "stdout",
     "output_type": "stream",
     "text": [
      "b 1 0 0 0 0\n",
      "1 b 1 1 b b\n",
      "1 False False True\n"
     ]
    }
   ],
   "source": [
    "a=1\n",
    "b=0\n",
    "c='b'\n",
    "print(a and c, c and a,a and b, b and a, b and c, c and b)\n",
    "print(a or c, c or a,a or b, b or a, b or c, c or b)\n",
    "print(a or b, not a, not c, not b)"
   ]
  },
  {
   "cell_type": "code",
   "execution_count": 40,
   "metadata": {},
   "outputs": [
    {
     "name": "stdout",
     "output_type": "stream",
     "text": [
      "False True False\n"
     ]
    }
   ],
   "source": [
    "a=9\n",
    "b=0\n",
    "print(a<b,a>b,a==b)"
   ]
  },
  {
   "cell_type": "markdown",
   "metadata": {},
   "source": [
    "## bitwise operators\n",
    "```\n",
    "$ | ^ ~ \n",
    " a=4 and b=10\n",
    " 4 -> 0100\n",
    " 10 -> 1010\n",
    "      _______\n",
    "      0000 -> 0 -> and\n",
    "      1110 -> 14 -> or\n",
    " \n",
    " ~a\n",
    " 4 -> 0100\n",
    "\n",
    "     0001 \n",
    "     ______\n",
    "      -0101\n",
    "      (adds 1 to the actual data and changes the num to -ve if          +ve and vice versa)\n",
    "```"
   ]
  },
  {
   "cell_type": "code",
   "execution_count": 41,
   "metadata": {},
   "outputs": [
    {
     "name": "stdout",
     "output_type": "stream",
     "text": [
      "1 13 -6\n"
     ]
    }
   ],
   "source": [
    "a=5\n",
    "b=9\n",
    "print(a & b, a | b, ~a)"
   ]
  },
  {
   "cell_type": "markdown",
   "metadata": {},
   "source": [
    "## XOR operation"
   ]
  },
  {
   "cell_type": "code",
   "execution_count": 42,
   "metadata": {},
   "outputs": [
    {
     "name": "stdout",
     "output_type": "stream",
     "text": [
      "9\n"
     ]
    }
   ],
   "source": [
    "a=9\n",
    "b=0\n",
    "print(a^b)"
   ]
  },
  {
   "cell_type": "markdown",
   "metadata": {},
   "source": [
    "### left shift and right shift\n",
    "* a=4-> 0100\n",
    "* a<<2 -> 010000 -> 16\n",
    "* a >> 2 -> 0001 -> 1"
   ]
  },
  {
   "cell_type": "code",
   "execution_count": 43,
   "metadata": {},
   "outputs": [
    {
     "name": "stdout",
     "output_type": "stream",
     "text": [
      "32 2\n"
     ]
    }
   ],
   "source": [
    "a=8\n",
    "print(a<<2,a>>2)"
   ]
  },
  {
   "cell_type": "markdown",
   "metadata": {},
   "source": [
    "## assignment operators"
   ]
  },
  {
   "cell_type": "code",
   "execution_count": 44,
   "metadata": {},
   "outputs": [
    {
     "name": "stdout",
     "output_type": "stream",
     "text": [
      "10\n",
      "20\n",
      "15\n",
      "225\n"
     ]
    }
   ],
   "source": [
    "a=5\n",
    "a=a+5\n",
    "print(a)\n",
    "a += 10\n",
    "print(a)\n",
    "a -= 5\n",
    "print(a)\n",
    "a **=2\n",
    "print(a)"
   ]
  },
  {
   "cell_type": "markdown",
   "metadata": {},
   "source": [
    "### membership operators"
   ]
  },
  {
   "cell_type": "code",
   "execution_count": 49,
   "metadata": {},
   "outputs": [
    {
     "name": "stdout",
     "output_type": "stream",
     "text": [
      "True\n",
      "False\n",
      "False\n"
     ]
    }
   ],
   "source": [
    "a = 'Python'\n",
    "b= 'pyth'\n",
    "print(b not in a)\n",
    "print(b in a)\n",
    "print(a in b)"
   ]
  },
  {
   "cell_type": "markdown",
   "metadata": {},
   "source": [
    "###  identity operators"
   ]
  },
  {
   "cell_type": "code",
   "execution_count": 51,
   "metadata": {},
   "outputs": [
    {
     "name": "stdout",
     "output_type": "stream",
     "text": [
      "True False\n"
     ]
    }
   ],
   "source": [
    "a=5\n",
    "b=5.5\n",
    "c=5\n",
    "d=[1,2,3]\n",
    "e={1,2,3}\n",
    "print( a== c, d == e)"
   ]
  },
  {
   "cell_type": "code",
   "execution_count": 63,
   "metadata": {},
   "outputs": [
    {
     "name": "stdout",
     "output_type": "stream",
     "text": [
      "140729022325264\n",
      "1424885972616\n",
      "1424885972616\n"
     ]
    }
   ],
   "source": [
    "# to know the location of data\n",
    "print(id(a))\n",
    "print(id(d))\n",
    "f=d\n",
    "g=a\n",
    " #assigns different for secondary data types\n",
    "print(id(f)) # assigns same location for primitive data types"
   ]
  },
  {
   "cell_type": "code",
   "execution_count": 59,
   "metadata": {},
   "outputs": [
    {
     "name": "stdout",
     "output_type": "stream",
     "text": [
      "[1, 2, 3, 'Python', 'Python', 'Python']\n",
      "[1, 2, 3, 'Python', 'Python', 'Python']\n"
     ]
    }
   ],
   "source": [
    "d.append('Python')"
   ]
  },
  {
   "cell_type": "code",
   "execution_count": 65,
   "metadata": {},
   "outputs": [
    {
     "name": "stdout",
     "output_type": "stream",
     "text": [
      "[1, 2, 3, 'Python', 'Python', 'Python']\n",
      "[1, 2, 3, 'Python', 'Python', 'Python']\n"
     ]
    }
   ],
   "source": [
    "print(d)\n",
    "print(f)"
   ]
  },
  {
   "cell_type": "code",
   "execution_count": 64,
   "metadata": {},
   "outputs": [
    {
     "name": "stdout",
     "output_type": "stream",
     "text": [
      "[1, 2, 3, 'Python', 'Python', 'Python'] [1, 2, 3, 'Python', 'Python', 'Python'] 5\n",
      "True False\n"
     ]
    }
   ],
   "source": [
    "print(d,f,g)\n",
    "print(d is f,g is e)"
   ]
  },
  {
   "cell_type": "markdown",
   "metadata": {},
   "source": [
    "### conditional stats\n",
    "- if\n",
    "- if-else\n",
    "- -f-elis -else\n",
    "### loops\n",
    "- for\n",
    "- while\n",
    "### strings\n",
    "- declaring str\n",
    "- accessing the elements\n",
    "- string methods"
   ]
  },
  {
   "cell_type": "markdown",
   "metadata": {},
   "source": [
    "## if\n",
    "```python\n",
    "if condition:\n",
    "    block of code\n",
    "\n",
    "if condition:\n",
    "    block\n",
    "else:\n",
    "    block\n",
    "    \n",
    "if condition:\n",
    "    block\n",
    "elif condition:\n",
    "    block\n",
    "else:\n",
    "    block\n",
    "```"
   ]
  },
  {
   "cell_type": "markdown",
   "metadata": {},
   "source": [
    "- biggest of 2 nums"
   ]
  },
  {
   "cell_type": "code",
   "execution_count": 5,
   "metadata": {},
   "outputs": [
    {
     "name": "stdout",
     "output_type": "stream",
     "text": [
      "c is bigger\n"
     ]
    }
   ],
   "source": [
    "a = 9\n",
    "b = 8\n",
    "c=12\n",
    "if a>b and a>c:\n",
    "    print(\"a is bigger\")\n",
    "elif b>c:\n",
    "    print(\"b is bigger\")\n",
    "else:\n",
    "    print(\"c is bigger\")"
   ]
  },
  {
   "cell_type": "markdown",
   "metadata": {},
   "source": [
    "- check the input is even or not"
   ]
  },
  {
   "cell_type": "code",
   "execution_count": 6,
   "metadata": {},
   "outputs": [
    {
     "name": "stdout",
     "output_type": "stream",
     "text": [
      "emter a num5\n",
      "odd\n"
     ]
    }
   ],
   "source": [
    "n= int(input(\"emter a num\"))\n",
    "if n%2 == 0:\n",
    "    print(\"even\")\n",
    "else:\n",
    "    print(\"odd\")"
   ]
  },
  {
   "cell_type": "markdown",
   "metadata": {},
   "source": [
    "## leap year\n"
   ]
  },
  {
   "cell_type": "code",
   "execution_count": 7,
   "metadata": {},
   "outputs": [
    {
     "name": "stdout",
     "output_type": "stream",
     "text": [
      "enter year2000\n",
      "is leap\n"
     ]
    }
   ],
   "source": [
    "year=int(input(\"enter year\"))\n",
    "if(year%400==0) or (year%4==0 and year % 100 !=0):\n",
    "    print(\"is leap\")\n",
    "else:\n",
    "    print(\"not leap\")"
   ]
  },
  {
   "cell_type": "markdown",
   "metadata": {},
   "source": [
    "## calculator application\n",
    "- 2 inputs\n",
    "- arithmetic operation"
   ]
  },
  {
   "cell_type": "code",
   "execution_count": 8,
   "metadata": {},
   "outputs": [
    {
     "name": "stdout",
     "output_type": "stream",
     "text": [
      "enter a num5\n",
      "enter 2nd num6\n",
      "enter operation + - * /+\n",
      "11\n"
     ]
    }
   ],
   "source": [
    "a= int(input(\"enter a num\"))\n",
    "b= int(input(\"enter 2nd num\"))\n",
    "arth=input(\"enter operation + - * /\")\n",
    "if arth =='+':\n",
    "    print(a+b)\n",
    "elif arth=='-':\n",
    "    print(a-b)\n",
    "elif arth=='*':\n",
    "    print(a*b)\n",
    "elif arth=='/':\n",
    "    print(a/b)\n",
    "else:\n",
    "    print(\"invalid\")"
   ]
  },
  {
   "cell_type": "markdown",
   "metadata": {},
   "source": [
    "### loops\n",
    "\n",
    "``` python\n",
    "for var in group:\n",
    "    block\n",
    "    \n",
    "while cond:\n",
    "    block\n",
    "    increment or decrement\n",
    "```\n",
    "\n",
    "### gropu of numbers\n",
    "```\n",
    "- range\n",
    "range(init,cond,inc/dec)\n",
    "range(start,stop,step i.e., change)\n",
    "\n",
    "cond -> req arg\n",
    "init ->0\n",
    "inc/dec -> +-1\n",
    "```"
   ]
  },
  {
   "cell_type": "code",
   "execution_count": 17,
   "metadata": {},
   "outputs": [
    {
     "name": "stdout",
     "output_type": "stream",
     "text": [
      "1\t2\t3\t4\t5\t6\t7\t8\t9\t10\t11\t12\t13\t14\t15\t16\t17\t18\t19\t20\t21\t22\t23\t24\t"
     ]
    }
   ],
   "source": [
    "for i in range(1,25,1):\n",
    "    print(i,end = '\\t')"
   ]
  },
  {
   "cell_type": "code",
   "execution_count": 18,
   "metadata": {},
   "outputs": [
    {
     "name": "stdout",
     "output_type": "stream",
     "text": [
      "0\t1\t2\t3\t4\t5\t6\t7\t8\t9\t10\t11\t12\t13\t14\t15\t16\t17\t18\t19\t20\t21\t22\t23\t24\t"
     ]
    }
   ],
   "source": [
    "for i in range(25):\n",
    "    print(i,end = '\\t')"
   ]
  },
  {
   "cell_type": "code",
   "execution_count": 19,
   "metadata": {},
   "outputs": [
    {
     "name": "stdout",
     "output_type": "stream",
     "text": [
      "1\t3\t5\t7\t9\t11\t13\t15\t17\t19\t21\t23\t"
     ]
    }
   ],
   "source": [
    "for i in range(1,25,2):\n",
    "    print(i,end = '\\t')"
   ]
  },
  {
   "cell_type": "code",
   "execution_count": 25,
   "metadata": {},
   "outputs": [
    {
     "name": "stdout",
     "output_type": "stream",
     "text": [
      "2\t4\t6\t8\t10\t12\t14\t16\t18\t20\t22\t24\t26\t28\t30\t32\t34\t36\t38\t40\t42\t44\t46\t48\t50\t52\t54\t56\t58\t60\t62\t64\t66\t68\t70\t72\t74\t76\t78\t80\t82\t84\t86\t88\t90\t92\t94\t96\t98\t"
     ]
    }
   ],
   "source": [
    "for i in range(1,100,1):\n",
    "    if(i%2==0):\n",
    "        print(i,end = '\\t')"
   ]
  },
  {
   "cell_type": "markdown",
   "metadata": {},
   "source": [
    "- get leap year between range given by user"
   ]
  },
  {
   "cell_type": "code",
   "execution_count": 35,
   "metadata": {},
   "outputs": [
    {
     "name": "stdout",
     "output_type": "stream",
     "text": [
      "enter 1st year2000\n",
      "enter last year2020\n",
      "2000\n",
      "2004\n",
      "2008\n",
      "2012\n",
      "2016\n"
     ]
    }
   ],
   "source": [
    "a=int(input(\"enter 1st year\"))\n",
    "b=int(input(\"enter last year\"))\n",
    "for year in range(a,b,1):\n",
    "    if(year%400==0) or (year%4==0 and year % 100 !=0):\n",
    "        print(year)"
   ]
  },
  {
   "cell_type": "markdown",
   "metadata": {},
   "source": [
    "### while"
   ]
  },
  {
   "cell_type": "code",
   "execution_count": 34,
   "metadata": {},
   "outputs": [
    {
     "name": "stdout",
     "output_type": "stream",
     "text": [
      "1\t2\t3\t4\t5\t6\t7\t8\t9\t10\t11\t12\t13\t14\t15\t16\t17\t18\t19\t20\t21\t22\t23\t24\t25\t26\t27\t28\t29\t30\t31\t32\t33\t34\t35\t36\t37\t38\t39\t40\t41\t42\t43\t44\t45\t46\t47\t48\t49\t50\t"
     ]
    }
   ],
   "source": [
    "i=1\n",
    "while i<51:\n",
    "    print(i,end='\\t')\n",
    "    i += 1\n",
    "    "
   ]
  },
  {
   "cell_type": "markdown",
   "metadata": {},
   "source": [
    "#### break: to terminate the execution of the loop\n",
    "#### continue: to skip that and continue"
   ]
  },
  {
   "cell_type": "markdown",
   "metadata": {},
   "source": [
    "### properties of string\n",
    "- immutable data type\n",
    "- it is iterable"
   ]
  },
  {
   "cell_type": "code",
   "execution_count": 37,
   "metadata": {},
   "outputs": [],
   "source": [
    "s=\"hi\"\n",
    "st= ' hello'\n",
    "str='''hi\n",
    "hello\n",
    "vanakkam\n",
    "world'''"
   ]
  },
  {
   "cell_type": "code",
   "execution_count": 38,
   "metadata": {},
   "outputs": [
    {
     "name": "stdout",
     "output_type": "stream",
     "text": [
      "h\ti\t \th\te\tl\tl\to\to\t \tv\ta\tn\ta\tk\tk\ta\tm\t"
     ]
    }
   ],
   "source": [
    "str=\"hi helloo vanakkam\"\n",
    "for char in str:\n",
    "    print(char,end='\\t')"
   ]
  },
  {
   "cell_type": "markdown",
   "metadata": {},
   "source": [
    "### accessing the characters from the string\n",
    "- indexing\n",
    "    - +ve \n",
    "    - -ve\n",
    "- slicing\n",
    "    - +ve slicing\n",
    "    - -ve slicing"
   ]
  },
  {
   "cell_type": "code",
   "execution_count": 40,
   "metadata": {},
   "outputs": [
    {
     "name": "stdout",
     "output_type": "stream",
     "text": [
      "h\n",
      "e\n",
      "?\n",
      "o\n"
     ]
    }
   ],
   "source": [
    "s=\"hi hello vanakkam how are you dng all goog?\"\n",
    "print(s[0]) # indexing\n",
    "print(s[4])\n",
    "print(s[-1])\n",
    "print(s[-4])"
   ]
  },
  {
   "cell_type": "code",
   "execution_count": null,
   "metadata": {},
   "outputs": [],
   "source": []
  }
 ],
 "metadata": {
  "kernelspec": {
   "display_name": "Python 3",
   "language": "python",
   "name": "python3"
  },
  "language_info": {
   "codemirror_mode": {
    "name": "ipython",
    "version": 3
   },
   "file_extension": ".py",
   "mimetype": "text/x-python",
   "name": "python",
   "nbconvert_exporter": "python",
   "pygments_lexer": "ipython3",
   "version": "3.7.6"
  }
 },
 "nbformat": 4,
 "nbformat_minor": 4
}
