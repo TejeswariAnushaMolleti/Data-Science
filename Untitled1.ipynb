{
 "cells": [
  {
   "cell_type": "markdown",
   "metadata": {},
   "source": [
    "- Dictionaries\n",
    "    - accessing elements\n",
    "    - dictionary methods\n",
    "- sets\n",
    "    - set methods"
   ]
  },
  {
   "cell_type": "markdown",
   "metadata": {},
   "source": [
    "### Dictionary \n",
    " used to store non homogeneous group of data\n",
    " #### Properties\n",
    " - it is used to store data as K:V in '{}'\n",
    " - It is iterable\n",
    " - ordered\n",
    "     - python 3.6 is unordered\n",
    "     - the next versions i.e., 3.6+ is ordered\n",
    " - Iterable\n",
    " - key should be unique and it is immutable\n",
    " "
   ]
  },
  {
   "cell_type": "code",
   "execution_count": 4,
   "metadata": {},
   "outputs": [
    {
     "name": "stdout",
     "output_type": "stream",
     "text": [
      "<class 'dict'> <class 'dict'>\n"
     ]
    }
   ],
   "source": [
    "d1={1:'ko'}\n",
    "d2={'A':'ko'}\n",
    "print(type(d1),type(d2))"
   ]
  },
  {
   "cell_type": "code",
   "execution_count": 5,
   "metadata": {},
   "outputs": [
    {
     "name": "stdout",
     "output_type": "stream",
     "text": [
      "{'Roll': [1, 2, 3, 4, 5]}\n"
     ]
    }
   ],
   "source": [
    "d1={'Roll':[1,2,3,4,5]}\n",
    "print(d1)"
   ]
  },
  {
   "cell_type": "code",
   "execution_count": 7,
   "metadata": {},
   "outputs": [
    {
     "name": "stdout",
     "output_type": "stream",
     "text": [
      "{1: 'tejeswari', 2: 'pranay'}\n"
     ]
    }
   ],
   "source": [
    "dict={1:'anusha',\n",
    "      2:'pranay',\n",
    "      1:'tejeswari'}\n",
    "print(dict)"
   ]
  },
  {
   "cell_type": "code",
   "execution_count": 8,
   "metadata": {},
   "outputs": [
    {
     "ename": "TypeError",
     "evalue": "unhashable type: 'list'",
     "output_type": "error",
     "traceback": [
      "\u001b[1;31m---------------------------------------------------------------------------\u001b[0m",
      "\u001b[1;31mTypeError\u001b[0m                                 Traceback (most recent call last)",
      "\u001b[1;32m<ipython-input-8-f78f52919b71>\u001b[0m in \u001b[0;36m<module>\u001b[1;34m\u001b[0m\n\u001b[1;32m----> 1\u001b[1;33m \u001b[0mdict\u001b[0m\u001b[1;33m=\u001b[0m\u001b[1;33m{\u001b[0m\u001b[1;33m[\u001b[0m\u001b[1;36m1\u001b[0m\u001b[1;33m,\u001b[0m\u001b[1;36m2\u001b[0m\u001b[1;33m,\u001b[0m\u001b[1;36m3\u001b[0m\u001b[1;33m]\u001b[0m\u001b[1;33m:\u001b[0m\u001b[1;34m'python'\u001b[0m\u001b[1;33m}\u001b[0m\u001b[1;33m\u001b[0m\u001b[1;33m\u001b[0m\u001b[0m\n\u001b[0m",
      "\u001b[1;31mTypeError\u001b[0m: unhashable type: 'list'"
     ]
    }
   ],
   "source": [
    "dict={[1,2,3]:'python'}"
   ]
  },
  {
   "cell_type": "code",
   "execution_count": 10,
   "metadata": {},
   "outputs": [
    {
     "name": "stdout",
     "output_type": "stream",
     "text": [
      "{(1, 2, 3): 'python'}\n"
     ]
    }
   ],
   "source": [
    "dict={(1,2,3):'python'}\n",
    "print(dict)"
   ]
  },
  {
   "cell_type": "code",
   "execution_count": 13,
   "metadata": {},
   "outputs": [
    {
     "name": "stdout",
     "output_type": "stream",
     "text": [
      "anu\n"
     ]
    }
   ],
   "source": [
    "d={1:'anu',2:'bhog'}\n",
    "print(d[1])"
   ]
  },
  {
   "cell_type": "code",
   "execution_count": 25,
   "metadata": {},
   "outputs": [
    {
     "name": "stdout",
     "output_type": "stream",
     "text": [
      "{'A': [9, 2, 3, 4, 5], 'B': [2, 3, 4, 5]}\n",
      "{'A': [2, 3, 4, 5, 9], 'B': [2, 3, 4, 5]}\n",
      "dict_keys(['A', 'B'])\n",
      "dict_values([[2, 3, 4, 5, 9], [2, 3, 4, 5]])\n"
     ]
    }
   ],
   "source": [
    "d={'A':[1,2,3,4,5], # update\n",
    "      'B':[2,3,4,5]}\n",
    "d['A'][0]=9\n",
    "print(d)\n",
    "d['A']=sorted(d['A'])\n",
    "print(d)\n",
    "print(d.keys())\n",
    "print(d.values())"
   ]
  },
  {
   "cell_type": "code",
   "execution_count": 32,
   "metadata": {},
   "outputs": [
    {
     "name": "stdout",
     "output_type": "stream",
     "text": [
      "dict_items([('A', [1, 2, 3, 4, 5]), ('B', [2, 3, 4, 5])])\n"
     ]
    },
    {
     "data": {
      "text/plain": [
       "[1, 2, 3, 4, 5]"
      ]
     },
     "execution_count": 32,
     "metadata": {},
     "output_type": "execute_result"
    }
   ],
   "source": [
    "d={'A':[1,2,3,4,5], \n",
    "      'B':[2,3,4,5]}\n",
    "print(d.items())\n",
    "d.get('A')"
   ]
  },
  {
   "cell_type": "code",
   "execution_count": 37,
   "metadata": {},
   "outputs": [
    {
     "name": "stdout",
     "output_type": "stream",
     "text": [
      "None\n",
      "key not available\n"
     ]
    }
   ],
   "source": [
    "d={'A':[1,2,3,4,5], \n",
    "      'B':[2,3,4,5]}\n",
    "print(d.get('C'))\n",
    "print(d.get('C','key not available'))"
   ]
  },
  {
   "cell_type": "code",
   "execution_count": 45,
   "metadata": {},
   "outputs": [
    {
     "name": "stdout",
     "output_type": "stream",
     "text": [
      "{'21': [25, 36, 44, 55]}\n"
     ]
    }
   ],
   "source": [
    "mark={'21':[25,36,44,55]}\n",
    "supp1={'21':[45,24,65,45],'3_1':[1,2,3,4,5]}\n",
    "supl2={'21':[52,65,84,75],'3_2':[1,2,3,4,5]}\n",
    "print(mark)"
   ]
  },
  {
   "cell_type": "code",
   "execution_count": 47,
   "metadata": {},
   "outputs": [
    {
     "name": "stdout",
     "output_type": "stream",
     "text": [
      "{'21': [45, 24, 65, 45], '3_1': [1, 2, 3, 4, 5]}\n"
     ]
    }
   ],
   "source": [
    "mark.update(supp1)\n",
    "print(mark)"
   ]
  },
  {
   "cell_type": "code",
   "execution_count": 48,
   "metadata": {},
   "outputs": [
    {
     "name": "stdout",
     "output_type": "stream",
     "text": [
      "{'21': [52, 65, 84, 75], '3_1': [1, 2, 3, 4, 5], '3_2': [1, 2, 3, 4, 5]}\n"
     ]
    }
   ],
   "source": [
    "mark.update(supl2)\n",
    "print(mark)"
   ]
  },
  {
   "cell_type": "code",
   "execution_count": 58,
   "metadata": {},
   "outputs": [
    {
     "name": "stdout",
     "output_type": "stream",
     "text": [
      "{'21': [52, 65, 84, 75], '3_1': [1, 2, 3, 4, 5], '3_2': [1, 2, 3, 4, 5]} \n",
      "\n",
      "3\n",
      "\n",
      "\n",
      "[1, 2, 3, 4, 5]\n"
     ]
    }
   ],
   "source": [
    "cp=mark.copy()\n",
    "print(cp,'\\n')\n",
    "print(len(cp))\n",
    "print('\\n')\n",
    "print(cp.pop('3_2'))"
   ]
  },
  {
   "cell_type": "code",
   "execution_count": 54,
   "metadata": {},
   "outputs": [
    {
     "name": "stdout",
     "output_type": "stream",
     "text": [
      "('3_1', [1, 2, 3, 4, 5])\n",
      "{'21': [52, 65, 84, 75]}\n"
     ]
    }
   ],
   "source": [
    "print(cp.popitem())\n",
    "print(cp)"
   ]
  },
  {
   "cell_type": "code",
   "execution_count": 55,
   "metadata": {},
   "outputs": [
    {
     "name": "stdout",
     "output_type": "stream",
     "text": [
      "1 2 3\n"
     ]
    }
   ],
   "source": [
    "li=[1,2,3]\n",
    "\n",
    "a,b,c = li\n",
    "print(a,b,c)"
   ]
  },
  {
   "cell_type": "code",
   "execution_count": 56,
   "metadata": {},
   "outputs": [
    {
     "ename": "ValueError",
     "evalue": "too many values to unpack (expected 2)",
     "output_type": "error",
     "traceback": [
      "\u001b[1;31m---------------------------------------------------------------------------\u001b[0m",
      "\u001b[1;31mValueError\u001b[0m                                Traceback (most recent call last)",
      "\u001b[1;32m<ipython-input-56-e93ad9571cba>\u001b[0m in \u001b[0;36m<module>\u001b[1;34m\u001b[0m\n\u001b[1;32m----> 1\u001b[1;33m \u001b[0ma\u001b[0m\u001b[1;33m,\u001b[0m\u001b[0mb\u001b[0m\u001b[1;33m=\u001b[0m\u001b[1;33m[\u001b[0m\u001b[1;36m1\u001b[0m\u001b[1;33m,\u001b[0m\u001b[1;36m3\u001b[0m\u001b[1;33m,\u001b[0m\u001b[1;36m4\u001b[0m\u001b[1;33m]\u001b[0m\u001b[1;33m\u001b[0m\u001b[1;33m\u001b[0m\u001b[0m\n\u001b[0m",
      "\u001b[1;31mValueError\u001b[0m: too many values to unpack (expected 2)"
     ]
    }
   ],
   "source": [
    "a,b=[1,3,4]"
   ]
  },
  {
   "cell_type": "code",
   "execution_count": 57,
   "metadata": {
    "scrolled": true
   },
   "outputs": [
    {
     "ename": "ValueError",
     "evalue": "not enough values to unpack (expected 4, got 3)",
     "output_type": "error",
     "traceback": [
      "\u001b[1;31m---------------------------------------------------------------------------\u001b[0m",
      "\u001b[1;31mValueError\u001b[0m                                Traceback (most recent call last)",
      "\u001b[1;32m<ipython-input-57-5f4f5a0cafb7>\u001b[0m in \u001b[0;36m<module>\u001b[1;34m\u001b[0m\n\u001b[1;32m----> 1\u001b[1;33m \u001b[0ma\u001b[0m\u001b[1;33m,\u001b[0m\u001b[0mb\u001b[0m\u001b[1;33m,\u001b[0m\u001b[0mc\u001b[0m\u001b[1;33m,\u001b[0m\u001b[0md\u001b[0m\u001b[1;33m=\u001b[0m\u001b[1;33m[\u001b[0m\u001b[1;36m1\u001b[0m\u001b[1;33m,\u001b[0m\u001b[1;36m2\u001b[0m\u001b[1;33m,\u001b[0m\u001b[1;36m3\u001b[0m\u001b[1;33m]\u001b[0m\u001b[1;33m\u001b[0m\u001b[1;33m\u001b[0m\u001b[0m\n\u001b[0m",
      "\u001b[1;31mValueError\u001b[0m: not enough values to unpack (expected 4, got 3)"
     ]
    }
   ],
   "source": [
    "a,b,c,d=[1,2,3]"
   ]
  },
  {
   "cell_type": "markdown",
   "metadata": {},
   "source": [
    "### iterating"
   ]
  },
  {
   "cell_type": "code",
   "execution_count": 72,
   "metadata": {},
   "outputs": [
    {
     "name": "stdout",
     "output_type": "stream",
     "text": [
      "R\n",
      "A\n",
      "C\n",
      "\n",
      "\n",
      "[1, 2, 3]\n",
      "[4, 5, 6]\n",
      "[6, 7, 8]\n",
      "\n",
      "\n",
      "[1, 2, 3]\n",
      "[4, 5, 6]\n",
      "[6, 7, 8]\n",
      "\n",
      "\n",
      "[1, 2, 3]\n",
      "[4, 5, 6]\n",
      "[6, 7, 8]\n",
      "\n",
      "\n",
      "('R', [1, 2, 3])\n",
      "('A', [4, 5, 6])\n",
      "('C', [6, 7, 8])\n",
      "\n",
      "\n",
      "[1, 2, 3]\n",
      "[4, 5, 6]\n",
      "[6, 7, 8]\n"
     ]
    }
   ],
   "source": [
    "d1={'R':[1,2,3],\n",
    "    'A':[4,5,6],\n",
    "    'C':[6,7,8]}\n",
    "for pair in d1:\n",
    "    print(pair)\n",
    "print('\\n')\n",
    "for val in d1.values():\n",
    "    print(val)\n",
    "print('\\n')\n",
    "for p in d1:\n",
    "    print(d1[p])\n",
    "print('\\n')\n",
    "for p in d1:\n",
    "    print(d1.get(p))\n",
    "print('\\n')\n",
    "for p in d1.items():\n",
    "    print(p)\n",
    "print('\\n')\n",
    "for p in d1.items():\n",
    "    print(p[1])"
   ]
  },
  {
   "cell_type": "code",
   "execution_count": 73,
   "metadata": {},
   "outputs": [
    {
     "name": "stdout",
     "output_type": "stream",
     "text": [
      "R\n",
      "[1, 2, 3]\n",
      "********************\n",
      "A\n",
      "[4, 5, 6]\n",
      "********************\n",
      "C\n",
      "[6, 7, 8]\n",
      "********************\n"
     ]
    }
   ],
   "source": [
    "d1={'R':[1,2,3],\n",
    "    'A':[4,5,6],\n",
    "    'C':[6,7,8]}\n",
    "for key, value in d1.items():\n",
    "    print(key)\n",
    "    print(value)\n",
    "    print('*'*20)"
   ]
  },
  {
   "cell_type": "code",
   "execution_count": 76,
   "metadata": {},
   "outputs": [
    {
     "name": "stdout",
     "output_type": "stream",
     "text": [
      "{1: 1, 2: 4, 3: 9, 4: 16, 5: 25, 6: 36, 7: 49, 8: 64, 9: 81, 10: 100, 11: 121, 12: 144, 13: 169, 14: 196, 15: 225, 16: 256, 17: 289, 18: 324, 19: 361, 20: 400, 21: 441, 22: 484, 23: 529, 24: 576, 25: 625, 26: 676, 27: 729, 28: 784, 29: 841, 30: 900, 31: 961, 32: 1024, 33: 1089, 34: 1156, 35: 1225, 36: 1296, 37: 1369, 38: 1444, 39: 1521, 40: 1600, 41: 1681, 42: 1764, 43: 1849, 44: 1936, 45: 2025, 46: 2116, 47: 2209, 48: 2304, 49: 2401, 50: 2500}\n"
     ]
    }
   ],
   "source": [
    "d1={}\n",
    "for i in range(1,51):\n",
    "    d1[i]=i*i\n",
    "print(d1)"
   ]
  },
  {
   "cell_type": "code",
   "execution_count": 81,
   "metadata": {},
   "outputs": [
    {
     "name": "stdout",
     "output_type": "stream",
     "text": [
      "4\n",
      "16\n",
      "36\n",
      "64\n",
      "100\n",
      "144\n",
      "196\n",
      "256\n",
      "324\n",
      "400\n",
      "484\n",
      "576\n",
      "676\n",
      "784\n",
      "900\n",
      "1024\n",
      "1156\n",
      "1296\n",
      "1444\n",
      "1600\n",
      "1764\n",
      "1936\n",
      "2116\n",
      "2304\n",
      "2500\n"
     ]
    }
   ],
   "source": [
    "for key in d1:\n",
    "    if key % 2 ==0:\n",
    "        print(d1[key])"
   ]
  },
  {
   "cell_type": "markdown",
   "metadata": {},
   "source": [
    "### contact application\n",
    "\n",
    "{'Name' :['Phn num1','Phn num2','email', 'DOB','website']}\n",
    "\n",
    "Take the input from the user\n",
    "1. create a contact -> Key:Value\n",
    "2. add the contact to exising contact -> KEy -> Name\n",
    "3. edit the contact -> Key -> value\n",
    "4. delete the contact -> Name\n",
    "5. Delete the contact"
   ]
  },
  {
   "cell_type": "code",
   "execution_count": null,
   "metadata": {},
   "outputs": [],
   "source": [
    "option=input('''Press the options below\n",
    "    1.create a contact\n",
    "    2.add the contact to exising contact\n",
    "    3.edit the contact\n",
    "    3.delete the contact''')"
   ]
  },
  {
   "cell_type": "code",
   "execution_count": null,
   "metadata": {},
   "outputs": [],
   "source": [
    "contact={}"
   ]
  }
 ],
 "metadata": {
  "kernelspec": {
   "display_name": "Python 3",
   "language": "python",
   "name": "python3"
  },
  "language_info": {
   "codemirror_mode": {
    "name": "ipython",
    "version": 3
   },
   "file_extension": ".py",
   "mimetype": "text/x-python",
   "name": "python",
   "nbconvert_exporter": "python",
   "pygments_lexer": "ipython3",
   "version": "3.7.6"
  }
 },
 "nbformat": 4,
 "nbformat_minor": 4
}
