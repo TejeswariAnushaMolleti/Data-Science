{
 "cells": [
  {
   "cell_type": "markdown",
   "metadata": {},
   "source": [
    "## Day Agenda\n",
    "- Data science Life cycle\n",
    "- Data science Libraries"
   ]
  },
  {
   "cell_type": "markdown",
   "metadata": {},
   "source": [
    "## Data science life cycle\n",
    "- involves 6 stpes\n",
    "    - business undertsanding\n",
    "    - data prep\n",
    "    - data munging/data Wrangling\n",
    "        - feature selection (eg:- clothes, furniture etc)\n",
    "        - EDA Tool (Exploratory Data Analysis)\n",
    "    - model training\n",
    "    - model evaluation\n",
    "    - model deployment\n",
    "        - aws\n",
    "        - IBM waston studio\n",
    "    - model tracking"
   ]
  },
  {
   "cell_type": "markdown",
   "metadata": {},
   "source": [
    "## Data Analysis Libraries\n",
    "- Numpy (mostly used fo mathematical operations on integers) (numerical python)\n",
    "- Pandas (also used fo creating data frames)\n",
    "- Matplotlib (mostly used for data visualization)\n",
    "- Seaborn\n",
    "- Scipy"
   ]
  },
  {
   "cell_type": "code",
   "execution_count": 1,
   "metadata": {},
   "outputs": [],
   "source": [
    "import numpy"
   ]
  },
  {
   "cell_type": "code",
   "execution_count": 2,
   "metadata": {},
   "outputs": [
    {
     "name": "stdout",
     "output_type": "stream",
     "text": [
      "Requirement already satisfied: numpy in c:\\users\\tejeswari\\anaconda3\\lib\\site-packages (1.18.1)\n",
      "Note: you may need to restart the kernel to use updated packages.\n"
     ]
    }
   ],
   "source": [
    "pip install numpy"
   ]
  },
  {
   "cell_type": "code",
   "execution_count": 3,
   "metadata": {},
   "outputs": [],
   "source": [
    "import numpy as np"
   ]
  },
  {
   "cell_type": "code",
   "execution_count": 4,
   "metadata": {},
   "outputs": [
    {
     "data": {
      "text/plain": [
       "'1.18.1'"
      ]
     },
     "execution_count": 4,
     "metadata": {},
     "output_type": "execute_result"
    }
   ],
   "source": [
    "np.__version__"
   ]
  },
  {
   "cell_type": "markdown",
   "metadata": {},
   "source": [
    "## Creatiing arrays"
   ]
  },
  {
   "cell_type": "code",
   "execution_count": 2,
   "metadata": {},
   "outputs": [
    {
     "name": "stdout",
     "output_type": "stream",
     "text": [
      "23\n"
     ]
    },
    {
     "data": {
      "text/plain": [
       "0"
      ]
     },
     "execution_count": 2,
     "metadata": {},
     "output_type": "execute_result"
    }
   ],
   "source": [
    "import numpy as np\n",
    "# inbluilt as arrays in numpy\n",
    "x=np.array(23)\n",
    "print(x)\n",
    "np.ndim(x)  # check dimension"
   ]
  },
  {
   "cell_type": "code",
   "execution_count": 4,
   "metadata": {},
   "outputs": [
    {
     "name": "stdout",
     "output_type": "stream",
     "text": [
      "[12 23  4  5  6]\n"
     ]
    },
    {
     "data": {
      "text/plain": [
       "1"
      ]
     },
     "execution_count": 4,
     "metadata": {},
     "output_type": "execute_result"
    }
   ],
   "source": [
    "x1=np.array([12,23,4,5,6])\n",
    "print(x1)\n",
    "np.ndim(x1) #1-D array"
   ]
  },
  {
   "cell_type": "code",
   "execution_count": 9,
   "metadata": {},
   "outputs": [
    {
     "name": "stdout",
     "output_type": "stream",
     "text": [
      "[[1 2 3]]\n"
     ]
    },
    {
     "data": {
      "text/plain": [
       "2"
      ]
     },
     "execution_count": 9,
     "metadata": {},
     "output_type": "execute_result"
    }
   ],
   "source": [
    "# 2-D array\n",
    "x2=np.array([[1,2,3]])\n",
    "print(x2)\n",
    "np.ndim(x2)"
   ]
  },
  {
   "cell_type": "code",
   "execution_count": 5,
   "metadata": {},
   "outputs": [
    {
     "name": "stdout",
     "output_type": "stream",
     "text": [
      "[[1 2 3]\n",
      " [1 3 4]]\n",
      "2\n",
      "6\n",
      "to get rows and cols: (2, 3)\n"
     ]
    }
   ],
   "source": [
    "# 2D\n",
    "x3=np.array([[1,2,3],[1,3,4]])\n",
    "print(x3)\n",
    "print(np.ndim(x3))\n",
    "print(np.size(x3))\n",
    "print(\"to get rows and cols:\" , np.shape(x3))"
   ]
  },
  {
   "cell_type": "code",
   "execution_count": 16,
   "metadata": {},
   "outputs": [
    {
     "name": "stdout",
     "output_type": "stream",
     "text": [
      "[[[1 2 3]\n",
      "  [4 5 6]\n",
      "  [7 8 9]]]\n",
      "dimension of x4:  3\n",
      "elements of x4  9\n",
      "shape of x4 (1, 3, 3)\n"
     ]
    }
   ],
   "source": [
    "## 3D array\n",
    "## - [[[]]]\n",
    "x4=np.array([[[1,2,3],[4,5,6],[7,8,9]]])\n",
    "print(x4)\n",
    "print(\"dimension of x4: \",np.ndim(x4))\n",
    "print(\"elements of x4 \",np.size(x4))\n",
    "print(\"shape of x4\",np.shape(x4)) \n",
    "# 3-rows and 3-cols \n",
    "## inside a 1 dim array we have 2 dimension array so that is why we get 1 in shape"
   ]
  },
  {
   "cell_type": "markdown",
   "metadata": {},
   "source": [
    "## Methods to create arrays\n",
    "- Zeros\n",
    "- Ones\n",
    "- linspacce\n",
    "- logspace\n",
    "- arrange"
   ]
  },
  {
   "cell_type": "code",
   "execution_count": 20,
   "metadata": {},
   "outputs": [
    {
     "name": "stdout",
     "output_type": "stream",
     "text": [
      "[0. 0.]\n",
      "[0. 0. 0.]\n"
     ]
    }
   ],
   "source": [
    "a0 = np.zeros(2)\n",
    "print(a0)\n",
    "a1=np.zeros(3)\n",
    "print(a1)"
   ]
  },
  {
   "cell_type": "code",
   "execution_count": 22,
   "metadata": {},
   "outputs": [
    {
     "data": {
      "text/plain": [
       "array([0, 0, 0, 0])"
      ]
     },
     "execution_count": 22,
     "metadata": {},
     "output_type": "execute_result"
    }
   ],
   "source": [
    "a2=np.zeros(4,dtype=int)\n",
    "a2"
   ]
  },
  {
   "cell_type": "code",
   "execution_count": 23,
   "metadata": {},
   "outputs": [
    {
     "data": {
      "text/plain": [
       "array(['', '', '', ''], dtype='<U1')"
      ]
     },
     "execution_count": 23,
     "metadata": {},
     "output_type": "execute_result"
    }
   ],
   "source": [
    "a2=np.zeros(4,dtype=str)\n",
    "a2"
   ]
  },
  {
   "cell_type": "code",
   "execution_count": 24,
   "metadata": {},
   "outputs": [
    {
     "data": {
      "text/plain": [
       "array([1, 1, 1, 1, 1])"
      ]
     },
     "execution_count": 24,
     "metadata": {},
     "output_type": "execute_result"
    }
   ],
   "source": [
    "a3=np.ones(5,dtype=int)\n",
    "a3"
   ]
  },
  {
   "cell_type": "code",
   "execution_count": 15,
   "metadata": {},
   "outputs": [
    {
     "name": "stdout",
     "output_type": "stream",
     "text": [
      "a4 : [0 0 0 0 0]\n",
      "a5 : [[0 0 0 0 0]]\n",
      "a6 : [[0]\n",
      " [0]\n",
      " [0]\n",
      " [0]\n",
      " [0]]\n"
     ]
    }
   ],
   "source": [
    "a4=np.zeros(5,dtype=int)\n",
    "a5=a4.reshape(1,5)\n",
    "print(\"a4 :\",a4)\n",
    "print(\"a5 :\",a5)\n",
    "a6=a4.reshape(5,1)\n",
    "print(\"a6 :\",a6)"
   ]
  },
  {
   "cell_type": "code",
   "execution_count": 16,
   "metadata": {},
   "outputs": [
    {
     "name": "stdout",
     "output_type": "stream",
     "text": [
      "[ 1  3  5  7  9 11]\n",
      " dim : 1\n",
      "Elements : 6\n"
     ]
    }
   ],
   "source": [
    "a=np.arange(1,12,2) # elem from 1 to 12 with dif 2\n",
    "print(a)\n",
    "print(\" dim :\",np.ndim(a))\n",
    "print(\"Elements :\",np.size(a))"
   ]
  },
  {
   "cell_type": "code",
   "execution_count": 38,
   "metadata": {},
   "outputs": [
    {
     "name": "stdout",
     "output_type": "stream",
     "text": [
      "[ 1  3  5  7  9 11]\n",
      "[[ 1  3  5]\n",
      " [ 7  9 11]]\n"
     ]
    }
   ],
   "source": [
    "# possibilities to reshape of 6 elements\n",
    "#- (2,3)\n",
    "#- (3,2)\n",
    "#- (6,1)\n",
    "#- (1,6)\n",
    "a1=a.reshape(2,3)\n",
    "print(a)\n",
    "print(a1)"
   ]
  },
  {
   "cell_type": "code",
   "execution_count": 42,
   "metadata": {},
   "outputs": [
    {
     "name": "stdout",
     "output_type": "stream",
     "text": [
      "[1.e+01 1.e+03 1.e+05]\n"
     ]
    }
   ],
   "source": [
    "l1=np.logspace(1,5,3)\n",
    "print(l1)"
   ]
  },
  {
   "cell_type": "code",
   "execution_count": 47,
   "metadata": {},
   "outputs": [
    {
     "data": {
      "text/plain": [
       "array([1. , 1.8, 2.6, 3.4, 4.2, 5. ])"
      ]
     },
     "execution_count": 47,
     "metadata": {},
     "output_type": "execute_result"
    }
   ],
   "source": [
    "l2=np.linspace(1,5,6)\n",
    "l2"
   ]
  },
  {
   "cell_type": "code",
   "execution_count": 49,
   "metadata": {},
   "outputs": [
    {
     "data": {
      "text/plain": [
       "array([[0.04390663, 0.87373151],\n",
       "       [0.59756826, 0.49925386],\n",
       "       [0.90907492, 0.36736142]])"
      ]
     },
     "execution_count": 49,
     "metadata": {},
     "output_type": "execute_result"
    }
   ],
   "source": [
    "r=np.random.rand(3,2)\n",
    "r"
   ]
  },
  {
   "cell_type": "code",
   "execution_count": 50,
   "metadata": {},
   "outputs": [
    {
     "data": {
      "text/plain": [
       "array([[0.460749  , 0.52575853],\n",
       "       [0.81686304, 0.38945297],\n",
       "       [0.47480029, 0.59552192]])"
      ]
     },
     "execution_count": 50,
     "metadata": {},
     "output_type": "execute_result"
    }
   ],
   "source": [
    "r=np.random.rand(3,2)\n",
    "r"
   ]
  },
  {
   "cell_type": "code",
   "execution_count": 54,
   "metadata": {},
   "outputs": [
    {
     "data": {
      "text/plain": [
       "3"
      ]
     },
     "execution_count": 54,
     "metadata": {},
     "output_type": "execute_result"
    }
   ],
   "source": [
    "r1=np.random.randint(1,10)\n",
    "r1"
   ]
  },
  {
   "cell_type": "code",
   "execution_count": 19,
   "metadata": {},
   "outputs": [
    {
     "data": {
      "text/plain": [
       "array([[-0.20442672, -0.13664179, -0.19012233,  0.18148381,  0.12665418,\n",
       "        -1.88709483, -0.0750473 ,  0.25801895, -0.76478339, -0.37444796]])"
      ]
     },
     "execution_count": 19,
     "metadata": {},
     "output_type": "execute_result"
    }
   ],
   "source": [
    "r1=np.random.randn(1,10)\n",
    "r1"
   ]
  },
  {
   "cell_type": "code",
   "execution_count": 60,
   "metadata": {},
   "outputs": [
    {
     "data": {
      "text/plain": [
       "2"
      ]
     },
     "execution_count": 60,
     "metadata": {},
     "output_type": "execute_result"
    }
   ],
   "source": [
    "np.ndim(r1)"
   ]
  },
  {
   "cell_type": "code",
   "execution_count": 20,
   "metadata": {},
   "outputs": [
    {
     "data": {
      "text/plain": [
       "array([-0.20442672, -0.13664179, -0.19012233,  0.18148381,  0.12665418,\n",
       "       -1.88709483, -0.0750473 ,  0.25801895, -0.76478339, -0.37444796])"
      ]
     },
     "execution_count": 20,
     "metadata": {},
     "output_type": "execute_result"
    }
   ],
   "source": [
    "r3=r1.flatten() #to convert matrix to 1D\n",
    "r3"
   ]
  },
  {
   "cell_type": "code",
   "execution_count": 63,
   "metadata": {},
   "outputs": [
    {
     "data": {
      "text/plain": [
       "1"
      ]
     },
     "execution_count": 63,
     "metadata": {},
     "output_type": "execute_result"
    }
   ],
   "source": [
    "np.ndim(r3)"
   ]
  },
  {
   "cell_type": "markdown",
   "metadata": {},
   "source": [
    "## Accessing elements in arrays\n",
    "1. indexing\n",
    "    - +ve\n",
    "    - -ve\n",
    "2. slicing [start:stop:step]\n",
    "3. loop\n",
    "    - for\n",
    "    - while"
   ]
  },
  {
   "cell_type": "code",
   "execution_count": null,
   "metadata": {},
   "outputs": [],
   "source": []
  }
 ],
 "metadata": {
  "kernelspec": {
   "display_name": "Python 3",
   "language": "python",
   "name": "python3"
  },
  "language_info": {
   "codemirror_mode": {
    "name": "ipython",
    "version": 3
   },
   "file_extension": ".py",
   "mimetype": "text/x-python",
   "name": "python",
   "nbconvert_exporter": "python",
   "pygments_lexer": "ipython3",
   "version": "3.7.6"
  }
 },
 "nbformat": 4,
 "nbformat_minor": 4
}
