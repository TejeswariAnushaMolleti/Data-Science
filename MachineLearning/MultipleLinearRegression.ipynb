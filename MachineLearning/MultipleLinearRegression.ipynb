{
 "cells": [
  {
   "cell_type": "markdown",
   "metadata": {},
   "source": [
    "***Multiple Linear Regression***\n",
    "- One dependant variable and multiple independent variable\n",
    "- y=b0+b1x1+b2x2...+bnxn"
   ]
  },
  {
   "cell_type": "markdown",
   "metadata": {},
   "source": [
    "***process using sklearn***\n",
    "- Read the data\n",
    "- Cleaning / analyzing\n",
    "- Seperate the features and target\n",
    "- split to Train/test the data\n",
    "- Select the requires model\n",
    "- fit our training data\n",
    "- predict the data using testdata\n",
    "- compare the actual and predicted data\n",
    "- evaluation metrics"
   ]
  },
  {
   "cell_type": "code",
   "execution_count": 1,
   "metadata": {},
   "outputs": [],
   "source": [
    "# reading the data\n",
    "import pandas as pd\n",
    "data=pd.read_csv(\"https://raw.githubusercontent.com/AP-State-Skill-Development-Corporation/Datasets/master/Regression/FuelConsumptionCo2.csv\")"
   ]
  },
  {
   "cell_type": "code",
   "execution_count": 2,
   "metadata": {},
   "outputs": [
    {
     "data": {
      "text/html": [
       "<div>\n",
       "<style scoped>\n",
       "    .dataframe tbody tr th:only-of-type {\n",
       "        vertical-align: middle;\n",
       "    }\n",
       "\n",
       "    .dataframe tbody tr th {\n",
       "        vertical-align: top;\n",
       "    }\n",
       "\n",
       "    .dataframe thead th {\n",
       "        text-align: right;\n",
       "    }\n",
       "</style>\n",
       "<table border=\"1\" class=\"dataframe\">\n",
       "  <thead>\n",
       "    <tr style=\"text-align: right;\">\n",
       "      <th></th>\n",
       "      <th>MODELYEAR</th>\n",
       "      <th>MAKE</th>\n",
       "      <th>MODEL</th>\n",
       "      <th>VEHICLECLASS</th>\n",
       "      <th>ENGINESIZE</th>\n",
       "      <th>CYLINDERS</th>\n",
       "      <th>TRANSMISSION</th>\n",
       "      <th>FUELTYPE</th>\n",
       "      <th>FUELCONSUMPTION_CITY</th>\n",
       "      <th>FUELCONSUMPTION_HWY</th>\n",
       "      <th>FUELCONSUMPTION_COMB</th>\n",
       "      <th>FUELCONSUMPTION_COMB_MPG</th>\n",
       "      <th>CO2EMISSIONS</th>\n",
       "    </tr>\n",
       "  </thead>\n",
       "  <tbody>\n",
       "    <tr>\n",
       "      <th>0</th>\n",
       "      <td>2014</td>\n",
       "      <td>ACURA</td>\n",
       "      <td>ILX</td>\n",
       "      <td>COMPACT</td>\n",
       "      <td>2.0</td>\n",
       "      <td>4</td>\n",
       "      <td>AS5</td>\n",
       "      <td>Z</td>\n",
       "      <td>9.9</td>\n",
       "      <td>6.7</td>\n",
       "      <td>8.5</td>\n",
       "      <td>33</td>\n",
       "      <td>196</td>\n",
       "    </tr>\n",
       "    <tr>\n",
       "      <th>1</th>\n",
       "      <td>2014</td>\n",
       "      <td>ACURA</td>\n",
       "      <td>ILX</td>\n",
       "      <td>COMPACT</td>\n",
       "      <td>2.4</td>\n",
       "      <td>4</td>\n",
       "      <td>M6</td>\n",
       "      <td>Z</td>\n",
       "      <td>11.2</td>\n",
       "      <td>7.7</td>\n",
       "      <td>9.6</td>\n",
       "      <td>29</td>\n",
       "      <td>221</td>\n",
       "    </tr>\n",
       "    <tr>\n",
       "      <th>2</th>\n",
       "      <td>2014</td>\n",
       "      <td>ACURA</td>\n",
       "      <td>ILX HYBRID</td>\n",
       "      <td>COMPACT</td>\n",
       "      <td>1.5</td>\n",
       "      <td>4</td>\n",
       "      <td>AV7</td>\n",
       "      <td>Z</td>\n",
       "      <td>6.0</td>\n",
       "      <td>5.8</td>\n",
       "      <td>5.9</td>\n",
       "      <td>48</td>\n",
       "      <td>136</td>\n",
       "    </tr>\n",
       "    <tr>\n",
       "      <th>3</th>\n",
       "      <td>2014</td>\n",
       "      <td>ACURA</td>\n",
       "      <td>MDX 4WD</td>\n",
       "      <td>SUV - SMALL</td>\n",
       "      <td>3.5</td>\n",
       "      <td>6</td>\n",
       "      <td>AS6</td>\n",
       "      <td>Z</td>\n",
       "      <td>12.7</td>\n",
       "      <td>9.1</td>\n",
       "      <td>11.1</td>\n",
       "      <td>25</td>\n",
       "      <td>255</td>\n",
       "    </tr>\n",
       "    <tr>\n",
       "      <th>4</th>\n",
       "      <td>2014</td>\n",
       "      <td>ACURA</td>\n",
       "      <td>RDX AWD</td>\n",
       "      <td>SUV - SMALL</td>\n",
       "      <td>3.5</td>\n",
       "      <td>6</td>\n",
       "      <td>AS6</td>\n",
       "      <td>Z</td>\n",
       "      <td>12.1</td>\n",
       "      <td>8.7</td>\n",
       "      <td>10.6</td>\n",
       "      <td>27</td>\n",
       "      <td>244</td>\n",
       "    </tr>\n",
       "  </tbody>\n",
       "</table>\n",
       "</div>"
      ],
      "text/plain": [
       "   MODELYEAR   MAKE       MODEL VEHICLECLASS  ENGINESIZE  CYLINDERS  \\\n",
       "0       2014  ACURA         ILX      COMPACT         2.0          4   \n",
       "1       2014  ACURA         ILX      COMPACT         2.4          4   \n",
       "2       2014  ACURA  ILX HYBRID      COMPACT         1.5          4   \n",
       "3       2014  ACURA     MDX 4WD  SUV - SMALL         3.5          6   \n",
       "4       2014  ACURA     RDX AWD  SUV - SMALL         3.5          6   \n",
       "\n",
       "  TRANSMISSION FUELTYPE  FUELCONSUMPTION_CITY  FUELCONSUMPTION_HWY  \\\n",
       "0          AS5        Z                   9.9                  6.7   \n",
       "1           M6        Z                  11.2                  7.7   \n",
       "2          AV7        Z                   6.0                  5.8   \n",
       "3          AS6        Z                  12.7                  9.1   \n",
       "4          AS6        Z                  12.1                  8.7   \n",
       "\n",
       "   FUELCONSUMPTION_COMB  FUELCONSUMPTION_COMB_MPG  CO2EMISSIONS  \n",
       "0                   8.5                        33           196  \n",
       "1                   9.6                        29           221  \n",
       "2                   5.9                        48           136  \n",
       "3                  11.1                        25           255  \n",
       "4                  10.6                        27           244  "
      ]
     },
     "execution_count": 2,
     "metadata": {},
     "output_type": "execute_result"
    }
   ],
   "source": [
    "data.head()"
   ]
  },
  {
   "cell_type": "code",
   "execution_count": 3,
   "metadata": {},
   "outputs": [
    {
     "data": {
      "text/plain": [
       "(1067, 13)"
      ]
     },
     "execution_count": 3,
     "metadata": {},
     "output_type": "execute_result"
    }
   ],
   "source": [
    "data.shape"
   ]
  },
  {
   "cell_type": "code",
   "execution_count": 4,
   "metadata": {},
   "outputs": [
    {
     "data": {
      "text/plain": [
       "MODELYEAR                   0\n",
       "MAKE                        0\n",
       "MODEL                       0\n",
       "VEHICLECLASS                0\n",
       "ENGINESIZE                  0\n",
       "CYLINDERS                   0\n",
       "TRANSMISSION                0\n",
       "FUELTYPE                    0\n",
       "FUELCONSUMPTION_CITY        0\n",
       "FUELCONSUMPTION_HWY         0\n",
       "FUELCONSUMPTION_COMB        0\n",
       "FUELCONSUMPTION_COMB_MPG    0\n",
       "CO2EMISSIONS                0\n",
       "dtype: int64"
      ]
     },
     "execution_count": 4,
     "metadata": {},
     "output_type": "execute_result"
    }
   ],
   "source": [
    "data.isnull().sum()"
   ]
  },
  {
   "cell_type": "code",
   "execution_count": 5,
   "metadata": {},
   "outputs": [
    {
     "data": {
      "text/plain": [
       "2014    1067\n",
       "Name: MODELYEAR, dtype: int64"
      ]
     },
     "execution_count": 5,
     "metadata": {},
     "output_type": "execute_result"
    }
   ],
   "source": [
    "data[\"MODELYEAR\"].value_counts()"
   ]
  },
  {
   "cell_type": "code",
   "execution_count": 11,
   "metadata": {},
   "outputs": [],
   "source": [
    "x=data[[\"FUELCONSUMPTION_CITY\",\"FUELCONSUMPTION_HWY\",\"FUELCONSUMPTION_COMB\"]]\n",
    "y=data[\"CO2EMISSIONS\"]"
   ]
  },
  {
   "cell_type": "code",
   "execution_count": 24,
   "metadata": {},
   "outputs": [
    {
     "data": {
      "text/html": [
       "<div>\n",
       "<style scoped>\n",
       "    .dataframe tbody tr th:only-of-type {\n",
       "        vertical-align: middle;\n",
       "    }\n",
       "\n",
       "    .dataframe tbody tr th {\n",
       "        vertical-align: top;\n",
       "    }\n",
       "\n",
       "    .dataframe thead th {\n",
       "        text-align: right;\n",
       "    }\n",
       "</style>\n",
       "<table border=\"1\" class=\"dataframe\">\n",
       "  <thead>\n",
       "    <tr style=\"text-align: right;\">\n",
       "      <th></th>\n",
       "      <th>FUELCONSUMPTION_CITY</th>\n",
       "      <th>FUELCONSUMPTION_HWY</th>\n",
       "      <th>FUELCONSUMPTION_COMB</th>\n",
       "    </tr>\n",
       "  </thead>\n",
       "  <tbody>\n",
       "    <tr>\n",
       "      <th>583</th>\n",
       "      <td>11.7</td>\n",
       "      <td>10.3</td>\n",
       "      <td>11.1</td>\n",
       "    </tr>\n",
       "    <tr>\n",
       "      <th>268</th>\n",
       "      <td>21.5</td>\n",
       "      <td>14.6</td>\n",
       "      <td>18.4</td>\n",
       "    </tr>\n",
       "    <tr>\n",
       "      <th>751</th>\n",
       "      <td>15.5</td>\n",
       "      <td>11.0</td>\n",
       "      <td>13.5</td>\n",
       "    </tr>\n",
       "    <tr>\n",
       "      <th>369</th>\n",
       "      <td>14.5</td>\n",
       "      <td>10.6</td>\n",
       "      <td>12.7</td>\n",
       "    </tr>\n",
       "    <tr>\n",
       "      <th>874</th>\n",
       "      <td>12.9</td>\n",
       "      <td>9.1</td>\n",
       "      <td>11.2</td>\n",
       "    </tr>\n",
       "    <tr>\n",
       "      <th>...</th>\n",
       "      <td>...</td>\n",
       "      <td>...</td>\n",
       "      <td>...</td>\n",
       "    </tr>\n",
       "    <tr>\n",
       "      <th>765</th>\n",
       "      <td>16.2</td>\n",
       "      <td>11.8</td>\n",
       "      <td>14.2</td>\n",
       "    </tr>\n",
       "    <tr>\n",
       "      <th>348</th>\n",
       "      <td>25.5</td>\n",
       "      <td>20.0</td>\n",
       "      <td>23.0</td>\n",
       "    </tr>\n",
       "    <tr>\n",
       "      <th>349</th>\n",
       "      <td>23.9</td>\n",
       "      <td>17.8</td>\n",
       "      <td>21.2</td>\n",
       "    </tr>\n",
       "    <tr>\n",
       "      <th>563</th>\n",
       "      <td>15.1</td>\n",
       "      <td>10.6</td>\n",
       "      <td>13.1</td>\n",
       "    </tr>\n",
       "    <tr>\n",
       "      <th>979</th>\n",
       "      <td>8.9</td>\n",
       "      <td>7.3</td>\n",
       "      <td>8.2</td>\n",
       "    </tr>\n",
       "  </tbody>\n",
       "</table>\n",
       "<p>746 rows × 3 columns</p>\n",
       "</div>"
      ],
      "text/plain": [
       "     FUELCONSUMPTION_CITY  FUELCONSUMPTION_HWY  FUELCONSUMPTION_COMB\n",
       "583                  11.7                 10.3                  11.1\n",
       "268                  21.5                 14.6                  18.4\n",
       "751                  15.5                 11.0                  13.5\n",
       "369                  14.5                 10.6                  12.7\n",
       "874                  12.9                  9.1                  11.2\n",
       "..                    ...                  ...                   ...\n",
       "765                  16.2                 11.8                  14.2\n",
       "348                  25.5                 20.0                  23.0\n",
       "349                  23.9                 17.8                  21.2\n",
       "563                  15.1                 10.6                  13.1\n",
       "979                   8.9                  7.3                   8.2\n",
       "\n",
       "[746 rows x 3 columns]"
      ]
     },
     "execution_count": 24,
     "metadata": {},
     "output_type": "execute_result"
    }
   ],
   "source": [
    "from sklearn.model_selection import train_test_split\n",
    "x_train,x_test,y_train,y_test=train_test_split(x,y,test_size=0.3)\n",
    "x_train"
   ]
  },
  {
   "cell_type": "code",
   "execution_count": 25,
   "metadata": {},
   "outputs": [
    {
     "data": {
      "text/plain": [
       "(321, 3)"
      ]
     },
     "execution_count": 25,
     "metadata": {},
     "output_type": "execute_result"
    }
   ],
   "source": [
    "x_test.shape"
   ]
  },
  {
   "cell_type": "code",
   "execution_count": 26,
   "metadata": {},
   "outputs": [
    {
     "data": {
      "text/plain": [
       "(321,)"
      ]
     },
     "execution_count": 26,
     "metadata": {},
     "output_type": "execute_result"
    }
   ],
   "source": [
    "y_test.shape"
   ]
  },
  {
   "cell_type": "code",
   "execution_count": 27,
   "metadata": {},
   "outputs": [
    {
     "data": {
      "text/plain": [
       "LinearRegression(copy_X=True, fit_intercept=True, n_jobs=None, normalize=False)"
      ]
     },
     "execution_count": 27,
     "metadata": {},
     "output_type": "execute_result"
    }
   ],
   "source": [
    "from sklearn.linear_model import LinearRegression\n",
    "model=LinearRegression()\n",
    "model.fit(x_train,y_train)"
   ]
  },
  {
   "cell_type": "code",
   "execution_count": 28,
   "metadata": {},
   "outputs": [
    {
     "data": {
      "text/plain": [
       "array([266.58564225, 376.54644374, 212.34736751, 201.84836917,\n",
       "       255.82761288, 258.16143132, 244.5444888 , 192.67593752,\n",
       "       162.11954104, 175.57364143, 262.71432054, 201.41430657,\n",
       "       186.90485996, 288.7178278 , 217.47344588, 365.13638255,\n",
       "       183.29256928, 211.86521045, 204.1462826 , 201.62524315,\n",
       "       250.53869238, 328.41075092, 228.31031792, 306.50169139,\n",
       "       208.28882479, 215.91156373, 309.71582449, 289.77317402,\n",
       "       202.24652676, 206.97444754, 269.93890189, 257.81136819,\n",
       "       209.08513997, 288.31967022, 218.30566607, 229.70353782,\n",
       "       223.59458657, 254.93510879, 273.77431859, 308.99835197,\n",
       "       211.41895841, 243.25382713, 148.61734619, 395.42155856,\n",
       "       228.96750654, 205.90691189, 310.35566686, 370.25027148,\n",
       "       227.47809773, 322.00620032, 295.21856732, 230.02285275,\n",
       "       255.0312977 , 290.61758365, 352.68953391, 271.15709023,\n",
       "       221.51979916, 193.95440975, 344.301228  , 276.81342012,\n",
       "       308.99835197, 284.00209646, 194.79881938, 192.06684335,\n",
       "       327.13227869, 203.57309345, 230.4691048 , 227.03184568,\n",
       "       294.05484276, 313.28002071, 397.61109364, 269.93890189,\n",
       "       280.03974265, 278.39386103, 305.38606129, 244.65923647,\n",
       "       240.08778849, 255.60448685, 234.70267908, 205.24972327,\n",
       "       393.86549653, 252.60129035, 267.76792558, 267.60508345,\n",
       "       212.69743064, 241.1431347 , 191.62059131, 287.21622955,\n",
       "       307.78016363, 234.9258051 , 269.1066817 , 235.14893113,\n",
       "       300.39910947, 224.07674363, 234.35261595, 324.46695587,\n",
       "       240.69688266, 330.9074115 , 230.42101034, 317.46550054,\n",
       "       179.89121519, 235.59518317, 206.75132152, 197.57888987,\n",
       "       283.42890731, 281.04699441, 339.95290604, 313.50314673,\n",
       "       194.17753577, 208.86201395, 148.61734619, 213.14368269,\n",
       "       193.95440975, 199.46645627, 282.72362423, 236.8736554 ,\n",
       "       239.03244228, 190.96340268, 247.80671635, 416.0040514 ,\n",
       "       425.06173538, 212.13643093, 232.53170276, 225.30712141,\n",
       "       226.36246762, 330.9074115 , 189.01555239, 280.16667976,\n",
       "       294.05484276, 238.80931626, 271.87456275, 194.17753577,\n",
       "       190.51715064, 256.70792752, 341.62953586, 294.10293721,\n",
       "       300.32026681, 336.40089925, 219.79507489, 235.35986771,\n",
       "       244.75542538, 218.5287921 , 242.80757508, 283.42890731,\n",
       "       253.92785703, 205.85881744, 197.57888987, 327.0719948 ,\n",
       "       203.1268414 , 245.85886605, 213.40271372, 279.32227013,\n",
       "       231.52445101, 213.80087131, 344.80776393, 207.13728967,\n",
       "       206.57628996, 187.56204859, 204.1462826 , 283.4891912 ,\n",
       "       304.66858877, 153.95436114, 254.19907751, 230.02285275,\n",
       "       237.08459198, 378.1442309 , 208.28882479, 222.3039249 ,\n",
       "       220.24132693, 200.3108659 , 208.28882479, 191.92255998,\n",
       "       142.22498502, 270.81921654, 204.19437706, 207.63163617,\n",
       "       397.43606207, 220.68757897, 203.52499899, 370.25027148,\n",
       "       253.97595149, 324.78627081, 301.05629809, 248.63893654,\n",
       "       305.73612442, 257.81136819, 332.63213577, 217.47344588,\n",
       "       237.70587559, 234.35261595, 277.82067188, 190.51715064,\n",
       "       212.07614704, 261.37556441, 212.13643093, 241.58938675,\n",
       "       248.59084208, 193.74347317, 392.4972047 , 274.87775926,\n",
       "       189.46180443, 360.67968224, 261.59869043, 225.35521586,\n",
       "       307.99110021, 186.68173394, 207.23347858, 204.18218762,\n",
       "       369.62898787, 131.56314455, 397.43606207, 345.9112046 ,\n",
       "       254.77226666, 265.82007528, 253.27066841, 276.33126306,\n",
       "       227.43000327, 263.75747731, 315.11949266, 279.33445957,\n",
       "       297.89025946, 332.23397818, 258.8667144 , 192.67593752,\n",
       "       261.82181645, 278.71317596, 237.69368615, 201.84836917,\n",
       "       243.5250476 , 256.30976993, 253.97595149, 244.5444888 ,\n",
       "       235.37205715, 168.11374461, 203.74812501, 273.77431859,\n",
       "       246.9264017 , 214.07209179, 197.57888987, 268.60014577,\n",
       "       309.17338353, 181.16968742, 175.51335754, 310.89810781,\n",
       "       197.57888987, 336.40089925, 230.59604191, 191.39746529,\n",
       "       319.23831927, 258.8667144 , 199.51455073, 271.8264683 ,\n",
       "       289.50195354, 309.66773003, 313.28002071, 179.89121519,\n",
       "       327.0719948 , 197.45195276, 233.24917528, 190.51715064,\n",
       "       228.47316004, 408.15818643, 199.30361414, 187.78517461,\n",
       "       291.49789829, 258.99365151, 244.9785514 , 279.37036458,\n",
       "       292.33011848, 324.78627081, 280.95080549, 193.95440975,\n",
       "       180.28937277, 238.36306422, 273.05684608, 281.04699441,\n",
       "       263.49844627, 292.72827607, 252.48654267, 185.80141929,\n",
       "       259.48799801, 182.01409705, 246.48014966, 208.86201395,\n",
       "       240.53404053, 204.41750308, 246.87830724, 256.08664391,\n",
       "       365.58263459, 236.76527705, 257.15417956, 220.01820091,\n",
       "       215.35056402, 231.25323053, 278.88820753, 369.62898787,\n",
       "       267.59289401, 204.40531364, 227.52619218, 249.21212569,\n",
       "       274.22057064, 182.62319122, 278.09189235, 230.4691048 ,\n",
       "       392.76842518, 309.66773003, 245.82296103, 266.93570539,\n",
       "       236.20427734, 245.37670899, 268.4853981 , 238.58619024,\n",
       "       223.85361761, 322.45245236, 200.18392879, 173.3064762 ,\n",
       "       266.05539074, 259.21677753, 322.00620032, 234.9258051 ,\n",
       "       344.85585839])"
      ]
     },
     "execution_count": 28,
     "metadata": {},
     "output_type": "execute_result"
    }
   ],
   "source": [
    "model.predict(x_test)"
   ]
  },
  {
   "cell_type": "code",
   "execution_count": 29,
   "metadata": {},
   "outputs": [
    {
     "data": {
      "text/plain": [
       "array([151.84366872])"
      ]
     },
     "execution_count": 29,
     "metadata": {},
     "output_type": "execute_result"
    }
   ],
   "source": [
    "model.predict([[6.0,5.8,5.9]])"
   ]
  },
  {
   "cell_type": "code",
   "execution_count": 34,
   "metadata": {},
   "outputs": [
    {
     "data": {
      "text/plain": [
       "array([266.58564225, 376.54644374, 212.34736751, 201.84836917,\n",
       "       255.82761288, 258.16143132, 244.5444888 , 192.67593752,\n",
       "       162.11954104, 175.57364143, 262.71432054, 201.41430657,\n",
       "       186.90485996, 288.7178278 , 217.47344588, 365.13638255,\n",
       "       183.29256928, 211.86521045, 204.1462826 , 201.62524315,\n",
       "       250.53869238, 328.41075092, 228.31031792, 306.50169139,\n",
       "       208.28882479, 215.91156373, 309.71582449, 289.77317402,\n",
       "       202.24652676, 206.97444754, 269.93890189, 257.81136819,\n",
       "       209.08513997, 288.31967022, 218.30566607, 229.70353782,\n",
       "       223.59458657, 254.93510879, 273.77431859, 308.99835197,\n",
       "       211.41895841, 243.25382713, 148.61734619, 395.42155856,\n",
       "       228.96750654, 205.90691189, 310.35566686, 370.25027148,\n",
       "       227.47809773, 322.00620032, 295.21856732, 230.02285275,\n",
       "       255.0312977 , 290.61758365, 352.68953391, 271.15709023,\n",
       "       221.51979916, 193.95440975, 344.301228  , 276.81342012,\n",
       "       308.99835197, 284.00209646, 194.79881938, 192.06684335,\n",
       "       327.13227869, 203.57309345, 230.4691048 , 227.03184568,\n",
       "       294.05484276, 313.28002071, 397.61109364, 269.93890189,\n",
       "       280.03974265, 278.39386103, 305.38606129, 244.65923647,\n",
       "       240.08778849, 255.60448685, 234.70267908, 205.24972327,\n",
       "       393.86549653, 252.60129035, 267.76792558, 267.60508345,\n",
       "       212.69743064, 241.1431347 , 191.62059131, 287.21622955,\n",
       "       307.78016363, 234.9258051 , 269.1066817 , 235.14893113,\n",
       "       300.39910947, 224.07674363, 234.35261595, 324.46695587,\n",
       "       240.69688266, 330.9074115 , 230.42101034, 317.46550054,\n",
       "       179.89121519, 235.59518317, 206.75132152, 197.57888987,\n",
       "       283.42890731, 281.04699441, 339.95290604, 313.50314673,\n",
       "       194.17753577, 208.86201395, 148.61734619, 213.14368269,\n",
       "       193.95440975, 199.46645627, 282.72362423, 236.8736554 ,\n",
       "       239.03244228, 190.96340268, 247.80671635, 416.0040514 ,\n",
       "       425.06173538, 212.13643093, 232.53170276, 225.30712141,\n",
       "       226.36246762, 330.9074115 , 189.01555239, 280.16667976,\n",
       "       294.05484276, 238.80931626, 271.87456275, 194.17753577,\n",
       "       190.51715064, 256.70792752, 341.62953586, 294.10293721,\n",
       "       300.32026681, 336.40089925, 219.79507489, 235.35986771,\n",
       "       244.75542538, 218.5287921 , 242.80757508, 283.42890731,\n",
       "       253.92785703, 205.85881744, 197.57888987, 327.0719948 ,\n",
       "       203.1268414 , 245.85886605, 213.40271372, 279.32227013,\n",
       "       231.52445101, 213.80087131, 344.80776393, 207.13728967,\n",
       "       206.57628996, 187.56204859, 204.1462826 , 283.4891912 ,\n",
       "       304.66858877, 153.95436114, 254.19907751, 230.02285275,\n",
       "       237.08459198, 378.1442309 , 208.28882479, 222.3039249 ,\n",
       "       220.24132693, 200.3108659 , 208.28882479, 191.92255998,\n",
       "       142.22498502, 270.81921654, 204.19437706, 207.63163617,\n",
       "       397.43606207, 220.68757897, 203.52499899, 370.25027148,\n",
       "       253.97595149, 324.78627081, 301.05629809, 248.63893654,\n",
       "       305.73612442, 257.81136819, 332.63213577, 217.47344588,\n",
       "       237.70587559, 234.35261595, 277.82067188, 190.51715064,\n",
       "       212.07614704, 261.37556441, 212.13643093, 241.58938675,\n",
       "       248.59084208, 193.74347317, 392.4972047 , 274.87775926,\n",
       "       189.46180443, 360.67968224, 261.59869043, 225.35521586,\n",
       "       307.99110021, 186.68173394, 207.23347858, 204.18218762,\n",
       "       369.62898787, 131.56314455, 397.43606207, 345.9112046 ,\n",
       "       254.77226666, 265.82007528, 253.27066841, 276.33126306,\n",
       "       227.43000327, 263.75747731, 315.11949266, 279.33445957,\n",
       "       297.89025946, 332.23397818, 258.8667144 , 192.67593752,\n",
       "       261.82181645, 278.71317596, 237.69368615, 201.84836917,\n",
       "       243.5250476 , 256.30976993, 253.97595149, 244.5444888 ,\n",
       "       235.37205715, 168.11374461, 203.74812501, 273.77431859,\n",
       "       246.9264017 , 214.07209179, 197.57888987, 268.60014577,\n",
       "       309.17338353, 181.16968742, 175.51335754, 310.89810781,\n",
       "       197.57888987, 336.40089925, 230.59604191, 191.39746529,\n",
       "       319.23831927, 258.8667144 , 199.51455073, 271.8264683 ,\n",
       "       289.50195354, 309.66773003, 313.28002071, 179.89121519,\n",
       "       327.0719948 , 197.45195276, 233.24917528, 190.51715064,\n",
       "       228.47316004, 408.15818643, 199.30361414, 187.78517461,\n",
       "       291.49789829, 258.99365151, 244.9785514 , 279.37036458,\n",
       "       292.33011848, 324.78627081, 280.95080549, 193.95440975,\n",
       "       180.28937277, 238.36306422, 273.05684608, 281.04699441,\n",
       "       263.49844627, 292.72827607, 252.48654267, 185.80141929,\n",
       "       259.48799801, 182.01409705, 246.48014966, 208.86201395,\n",
       "       240.53404053, 204.41750308, 246.87830724, 256.08664391,\n",
       "       365.58263459, 236.76527705, 257.15417956, 220.01820091,\n",
       "       215.35056402, 231.25323053, 278.88820753, 369.62898787,\n",
       "       267.59289401, 204.40531364, 227.52619218, 249.21212569,\n",
       "       274.22057064, 182.62319122, 278.09189235, 230.4691048 ,\n",
       "       392.76842518, 309.66773003, 245.82296103, 266.93570539,\n",
       "       236.20427734, 245.37670899, 268.4853981 , 238.58619024,\n",
       "       223.85361761, 322.45245236, 200.18392879, 173.3064762 ,\n",
       "       266.05539074, 259.21677753, 322.00620032, 234.9258051 ,\n",
       "       344.85585839])"
      ]
     },
     "execution_count": 34,
     "metadata": {},
     "output_type": "execute_result"
    }
   ],
   "source": [
    "y_pred=model.predict(x_test)\n",
    "y_pred"
   ]
  },
  {
   "cell_type": "code",
   "execution_count": 35,
   "metadata": {},
   "outputs": [
    {
     "data": {
      "text/plain": [
       "80.02457128357466"
      ]
     },
     "execution_count": 35,
     "metadata": {},
     "output_type": "execute_result"
    }
   ],
   "source": [
    "from sklearn.metrics import r2_score,mean_squared_error\n",
    "r2_score(y_test,y_pred)*100"
   ]
  },
  {
   "cell_type": "code",
   "execution_count": 37,
   "metadata": {},
   "outputs": [
    {
     "data": {
      "text/plain": [
       "396.6830537071269"
      ]
     },
     "execution_count": 37,
     "metadata": {},
     "output_type": "execute_result"
    }
   ],
   "source": [
    "mean_squared_error(y_test,y_pred)*0.5"
   ]
  },
  {
   "cell_type": "code",
   "execution_count": 38,
   "metadata": {},
   "outputs": [
    {
     "data": {
      "text/plain": [
       "74.91220870995997"
      ]
     },
     "execution_count": 38,
     "metadata": {},
     "output_type": "execute_result"
    }
   ],
   "source": [
    "model.intercept_"
   ]
  },
  {
   "cell_type": "code",
   "execution_count": 39,
   "metadata": {},
   "outputs": [
    {
     "data": {
      "text/plain": [
       "array([ -4.34062603, -19.35660858,  36.48195694])"
      ]
     },
     "execution_count": 39,
     "metadata": {},
     "output_type": "execute_result"
    }
   ],
   "source": [
    "model.coef_"
   ]
  },
  {
   "cell_type": "markdown",
   "metadata": {},
   "source": [
    "## Polynomial Regression"
   ]
  },
  {
   "cell_type": "code",
   "execution_count": 42,
   "metadata": {
    "scrolled": true
   },
   "outputs": [
    {
     "data": {
      "text/html": [
       "<div>\n",
       "<style scoped>\n",
       "    .dataframe tbody tr th:only-of-type {\n",
       "        vertical-align: middle;\n",
       "    }\n",
       "\n",
       "    .dataframe tbody tr th {\n",
       "        vertical-align: top;\n",
       "    }\n",
       "\n",
       "    .dataframe thead th {\n",
       "        text-align: right;\n",
       "    }\n",
       "</style>\n",
       "<table border=\"1\" class=\"dataframe\">\n",
       "  <thead>\n",
       "    <tr style=\"text-align: right;\">\n",
       "      <th></th>\n",
       "      <th>Year</th>\n",
       "      <th>Value</th>\n",
       "    </tr>\n",
       "  </thead>\n",
       "  <tbody>\n",
       "    <tr>\n",
       "      <th>0</th>\n",
       "      <td>1960</td>\n",
       "      <td>5.918412e+10</td>\n",
       "    </tr>\n",
       "    <tr>\n",
       "      <th>1</th>\n",
       "      <td>1961</td>\n",
       "      <td>4.955705e+10</td>\n",
       "    </tr>\n",
       "    <tr>\n",
       "      <th>2</th>\n",
       "      <td>1962</td>\n",
       "      <td>4.668518e+10</td>\n",
       "    </tr>\n",
       "    <tr>\n",
       "      <th>3</th>\n",
       "      <td>1963</td>\n",
       "      <td>5.009730e+10</td>\n",
       "    </tr>\n",
       "    <tr>\n",
       "      <th>4</th>\n",
       "      <td>1964</td>\n",
       "      <td>5.906225e+10</td>\n",
       "    </tr>\n",
       "  </tbody>\n",
       "</table>\n",
       "</div>"
      ],
      "text/plain": [
       "   Year         Value\n",
       "0  1960  5.918412e+10\n",
       "1  1961  4.955705e+10\n",
       "2  1962  4.668518e+10\n",
       "3  1963  5.009730e+10\n",
       "4  1964  5.906225e+10"
      ]
     },
     "execution_count": 42,
     "metadata": {},
     "output_type": "execute_result"
    }
   ],
   "source": [
    "data=pd.read_csv(\"https://raw.githubusercontent.com/AP-State-Skill-Development-Corporation/Datasets/master/Regression/china_gdp.csv\")\n",
    "data.head()"
   ]
  },
  {
   "cell_type": "code",
   "execution_count": 43,
   "metadata": {},
   "outputs": [
    {
     "data": {
      "text/plain": [
       "(55, 2)"
      ]
     },
     "execution_count": 43,
     "metadata": {},
     "output_type": "execute_result"
    }
   ],
   "source": [
    "data.shape"
   ]
  },
  {
   "cell_type": "code",
   "execution_count": 45,
   "metadata": {},
   "outputs": [
    {
     "data": {
      "image/png": "[encoded data removed]",
      "text/plain": [
       "<Figure size 432x288 with 1 Axes>"
      ]
     },
     "metadata": {
      "needs_background": "light"
     },
     "output_type": "display_data"
    }
   ],
   "source": [
    "import matplotlib.pyplot as plt\n",
    "plt.scatter(data[\"Year\"],data[\"Value\"])\n",
    "plt.show()"
   ]
  },
  {
   "cell_type": "code",
   "execution_count": 47,
   "metadata": {},
   "outputs": [],
   "source": [
    "x=data[\"Year\"].values.reshape(-1,1)\n",
    "y=data[\"Value\"].values"
   ]
  },
  {
   "cell_type": "code",
   "execution_count": 52,
   "metadata": {},
   "outputs": [
    {
     "data": {
      "text/plain": [
       "LinearRegression(copy_X=True, fit_intercept=True, n_jobs=None, normalize=False)"
      ]
     },
     "execution_count": 52,
     "metadata": {},
     "output_type": "execute_result"
    }
   ],
   "source": [
    "from sklearn.preprocessing import PolynomialFeatures\n",
    "ply=PolynomialFeatures(degree=3)\n",
    "x_poly=ply.fit_transform(x)\n",
    "from sklearn.linear_model import LinearRegression\n",
    "model=LinearRegression()\n",
    "model.fit(x_poly,y)"
   ]
  },
  {
   "cell_type": "code",
   "execution_count": 53,
   "metadata": {},
   "outputs": [],
   "source": [
    "y_pred=model.predict(x_poly)"
   ]
  },
  {
   "cell_type": "code",
   "execution_count": 54,
   "metadata": {},
   "outputs": [
    {
     "data": {
      "text/plain": [
       "96.45101047000898"
      ]
     },
     "execution_count": 54,
     "metadata": {},
     "output_type": "execute_result"
    }
   ],
   "source": [
    "r2_score(y,y_pred)*100"
   ]
  },
  {
   "cell_type": "code",
   "execution_count": 55,
   "metadata": {},
   "outputs": [
    {
     "data": {
      "text/plain": [
       "2.177936487194082e+23"
      ]
     },
     "execution_count": 55,
     "metadata": {},
     "output_type": "execute_result"
    }
   ],
   "source": [
    "mean_squared_error(y,y_pred)"
   ]
  },
  {
   "cell_type": "code",
   "execution_count": 62,
   "metadata": {},
   "outputs": [
    {
     "data": {
      "image/png": "[encoded data removed]",
      "text/plain": [
       "<Figure size 432x288 with 1 Axes>"
      ]
     },
     "metadata": {
      "needs_background": "light"
     },
     "output_type": "display_data"
    }
   ],
   "source": [
    "plt.scatter(data[\"Year\"],data[\"Value\"],c=\"red\")\n",
    "plt.plot(x,y_pred,c=\"blue\")\n",
    "plt.show()"
   ]
  },
  {
   "cell_type": "code",
   "execution_count": 67,
   "metadata": {},
   "outputs": [],
   "source": [
    "acc=[]\n",
    "for i in range(2,20):\n",
    "    poly=PolynomialFeatures(degree=i)\n",
    "    x_poly=ply.fit_transform(x)\n",
    "    model=LinearRegression()\n",
    "    model.fit(x_poly,y)\n",
    "    y_pred=model.predict(x_poly)\n",
    "    acc.append(r2_score(y,y_pred)*100)"
   ]
  },
  {
   "cell_type": "code",
   "execution_count": 68,
   "metadata": {},
   "outputs": [
    {
     "data": {
      "text/plain": [
       "[96.45101047000898,\n",
       " 96.45101047000898,\n",
       " 96.45101047000898,\n",
       " 96.45101047000898,\n",
       " 96.45101047000898,\n",
       " 96.45101047000898,\n",
       " 96.45101047000898,\n",
       " 96.45101047000898,\n",
       " 96.45101047000898,\n",
       " 96.45101047000898,\n",
       " 96.45101047000898,\n",
       " 96.45101047000898,\n",
       " 96.45101047000898,\n",
       " 96.45101047000898,\n",
       " 96.45101047000898,\n",
       " 96.45101047000898,\n",
       " 96.45101047000898,\n",
       " 96.45101047000898]"
      ]
     },
     "execution_count": 68,
     "metadata": {},
     "output_type": "execute_result"
    }
   ],
   "source": [
    "acc"
   ]
  },
  {
   "cell_type": "code",
   "execution_count": 72,
   "metadata": {},
   "outputs": [
    {
     "data": {
      "image/png": "[encoded data removed]",
      "text/plain": [
       "<Figure size 432x288 with 1 Axes>"
      ]
     },
     "metadata": {
      "needs_background": "light"
     },
     "output_type": "display_data"
    }
   ],
   "source": [
    "import numpy as np\n",
    "plt.plot(np.arange(2,20),acc)\n",
    "plt.xlabel(\"Degree of polynomial features\")\n",
    "plt.ylabel(\"Accuracy\")\n",
    "plt.show()"
   ]
  },
  {
   "cell_type": "code",
   "execution_count": null,
   "metadata": {},
   "outputs": [],
   "source": []
  }
 ],
 "metadata": {
  "kernelspec": {
   "display_name": "Python 3",
   "language": "python",
   "name": "python3"
  },
  "language_info": {
   "codemirror_mode": {
    "name": "ipython",
    "version": 3
   },
   "file_extension": ".py",
   "mimetype": "text/x-python",
   "name": "python",
   "nbconvert_exporter": "python",
   "pygments_lexer": "ipython3",
   "version": "3.7.6"
  }
 },
 "nbformat": 4,
 "nbformat_minor": 4
}
